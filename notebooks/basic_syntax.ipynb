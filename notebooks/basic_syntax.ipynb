{
 "cells": [
  {
   "metadata": {},
   "cell_type": "markdown",
   "source": [
    "# Basic python syntax\n",
    "\n",
    "## 1. Indentation\n",
    "\n",
    "**Python uses whitespace to delimit code blocks**, it's called `indentation`. **Indentation** defines the structure and logic flow of your code. Unlike other languages that use `braces {}` or `keywords like begin/end`.\n",
    "\n",
    "In python, all code blocks (under if, for, while, def, class, etc.) must be indented. The default indentation level is **4 spaces** per block (not tabs).\n",
    "\n",
    "> Do not Mix tabs and spaces, it will cause IndentationError.\n",
    ">\n",
    "Below is a simple if then else\n",
    "```python\n",
    "if arg1:\n",
    "    print(\"Instruction 1\")\n",
    "else:\n",
    "    print(\"Instruction 2\")\n",
    "```\n",
    "\n",
    "```r\n",
    "if (arg1) {\n",
    "    print(\"Instruction 1\")\n",
    "} else {\n",
    "    print(\"Instruction 2\")\n",
    "}\n",
    "```\n",
    "\n"
   ],
   "id": "7bb2230081671c52"
  },
  {
   "metadata": {},
   "cell_type": "code",
   "outputs": [],
   "execution_count": null,
   "source": "",
   "id": "2ba72a06ffb8e8f3"
  },
  {
   "metadata": {
    "ExecuteTime": {
     "end_time": "2025-07-23T14:14:57.022281Z",
     "start_time": "2025-07-23T14:14:48.658447Z"
    }
   },
   "cell_type": "code",
   "source": [
    "name = input(\"Enter your name: \")\n",
    "print(\"Hello, \" + name)"
   ],
   "id": "a161e9b23ad62f75",
   "outputs": [
    {
     "name": "stdout",
     "output_type": "stream",
     "text": [
      "Hello, pengfei\n"
     ]
    }
   ],
   "execution_count": 1
  },
  {
   "metadata": {},
   "cell_type": "code",
   "outputs": [],
   "execution_count": null,
   "source": "",
   "id": "f1174f1cb33a075d"
  }
 ],
 "metadata": {
  "kernelspec": {
   "display_name": "Python 3",
   "language": "python",
   "name": "python3"
  },
  "language_info": {
   "codemirror_mode": {
    "name": "ipython",
    "version": 2
   },
   "file_extension": ".py",
   "mimetype": "text/x-python",
   "name": "python",
   "nbconvert_exporter": "python",
   "pygments_lexer": "ipython2",
   "version": "2.7.6"
  }
 },
 "nbformat": 4,
 "nbformat_minor": 5
}
