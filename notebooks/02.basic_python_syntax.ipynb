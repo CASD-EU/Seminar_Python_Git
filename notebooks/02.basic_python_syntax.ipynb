{
 "cells": [
  {
   "metadata": {},
   "cell_type": "markdown",
   "source": [
    "# Basic python syntax\n",
    "\n",
    "In this notebook, we will show the basic python syntax. We will follow the below steps:\n",
    "1. Indentation\n",
    "2. Variables and types\n",
    "3. Conditions\n",
    "4. Loops\n",
    "5. Functions\n",
    "6. Common data structure: Lists and dicts\n",
    "7. Exception handling\n",
    "8. Import libraries\n",
    "\n",
    "## 1. Indentation\n",
    "\n",
    "**Python uses whitespace to delimit code blocks**, it's called `indentation`. **Indentation** defines the structure and logic flow of your code. Unlike other languages that use `braces {}` or `keywords like begin/end`.\n",
    "\n",
    "In python, all code blocks (under if, for, while, def, class, etc.) must be indented. The default indentation level is **4 spaces** per block (not tabs).\n",
    "\n",
    "> Do not Mix tabs and spaces, it will cause IndentationError.\n",
    "\n",
    "\n",
    "The General form is\n",
    "```text\n",
    "Level 1\n",
    "    Level 2\n",
    "        Level 3\n",
    "    Level 2\n",
    "Level 1\n",
    "...\n",
    "```\n",
    "\n",
    "Below is a simple if then else statement in python\n",
    "```python\n",
    "if arg1:\n",
    "    print(\"Instruction 1\")\n",
    "else:\n",
    "    print(\"Instruction 2\")\n",
    "```\n",
    "\n",
    "The equivalent code in R.\n",
    "```r\n",
    "if (arg1) {\n",
    "    print(\"Instruction 1\")\n",
    "} else {\n",
    "    print(\"Instruction 2\")\n",
    "}\n",
    "```\n",
    "\n",
    "If I want to add a third instruction in the true condition bloc in R.\n",
    "\n",
    "```r\n",
    "if (arg1) {\n",
    "    print(\"Instruction 1\")\n",
    "print(\"Instruction 3\")\n",
    "} else {\n",
    "    print(\"Instruction 2\")\n",
    "}\n",
    "```\n",
    "\n",
    "\n"
   ],
   "id": "7bb2230081671c52"
  },
  {
   "metadata": {
    "ExecuteTime": {
     "end_time": "2025-07-24T08:03:57.411561Z",
     "start_time": "2025-07-24T08:03:57.384296Z"
    }
   },
   "cell_type": "code",
   "source": [
    "from idlelib.pyshell import restart_line\n",
    "\n",
    "# In python\n",
    "arg1 = False\n",
    "if arg1:\n",
    "    print(\"Instruction 1\")\n",
    "else:\n",
    "    print(\"Instruction 2\")"
   ],
   "id": "2ba72a06ffb8e8f3",
   "outputs": [
    {
     "name": "stdout",
     "output_type": "stream",
     "text": [
      "Instruction 2\n"
     ]
    }
   ],
   "execution_count": 2
  },
  {
   "metadata": {},
   "cell_type": "code",
   "outputs": [],
   "execution_count": null,
   "source": [
    "# with bad indentation, the code does not work\n",
    "if arg1:\n",
    "    print(\"Instruction 1\")\n",
    "print(\"Instruction 3\")\n",
    "else:\n",
    "print(\"Instruction 2\")\n"
   ],
   "id": "ff4e9e31f3d2c00b"
  },
  {
   "metadata": {},
   "cell_type": "markdown",
   "source": [
    "If this time, we want to add instruction 3 in the false bloc\n",
    "\n",
    "```r\n",
    "if (arg1) {\n",
    "    print(\"Instruction 1\")\n",
    "} else {\n",
    "    print(\"Instruction 2\")\n",
    "print(\"Instruction 3\")\n",
    "}\n",
    "```"
   ],
   "id": "cb748956f15e1ec9"
  },
  {
   "metadata": {
    "ExecuteTime": {
     "end_time": "2025-07-24T08:07:02.907745Z",
     "start_time": "2025-07-24T08:07:02.900860Z"
    }
   },
   "cell_type": "code",
   "source": [
    "# sometimes, the syntax works, but the logic is wrong\n",
    "arg1 = True\n",
    "if arg1:\n",
    "    print(\"Instruction 1\")\n",
    "else:\n",
    "    print(\"Instruction 2\")\n",
    "    print(\"Instruction 3\")"
   ],
   "id": "bcb9d5513a8a91c",
   "outputs": [
    {
     "name": "stdout",
     "output_type": "stream",
     "text": [
      "Instruction 1\n"
     ]
    }
   ],
   "execution_count": 3
  },
  {
   "metadata": {
    "ExecuteTime": {
     "end_time": "2025-07-24T08:07:06.178672Z",
     "start_time": "2025-07-24T08:07:06.169194Z"
    }
   },
   "cell_type": "code",
   "source": [
    "if arg1:\n",
    "    print(\"Instruction 1\")\n",
    "else:\n",
    "    print(\"Instruction 2\")\n",
    "print(\"Instruction 3\")"
   ],
   "id": "f782802e7a2ae80f",
   "outputs": [
    {
     "name": "stdout",
     "output_type": "stream",
     "text": [
      "Instruction 1\n",
      "Instruction 3\n"
     ]
    }
   ],
   "execution_count": 4
  },
  {
   "metadata": {
    "ExecuteTime": {
     "end_time": "2025-07-24T08:14:28.029652Z",
     "start_time": "2025-07-24T08:14:28.019606Z"
    }
   },
   "cell_type": "code",
   "source": [
    "# We can go down to the code block level as deep as we want\n",
    "# Level 1\n",
    "class Dog:\n",
    "    def __init__(self, dog_name: str):\n",
    "        self.dog_name = dog_name\n",
    "\n",
    "    # level 2\n",
    "    def bark(self, hungry: bool = False):\n",
    "        # level 3\n",
    "        if hungry:\n",
    "            # level 4\n",
    "            print(f\"{self.dog_name} bark: Woof Woof Woof Woof Woof\")\n",
    "        else:\n",
    "            print(f\"{self.dog_name} bark: Woof\")\n",
    "\n",
    "\n",
    "dog = Dog(\"Meat ball\")\n",
    "dog.bark()\n"
   ],
   "id": "68656c45118117d3",
   "outputs": [
    {
     "name": "stdout",
     "output_type": "stream",
     "text": [
      "Meat ball bark: Woof\n"
     ]
    }
   ],
   "execution_count": 9
  },
  {
   "metadata": {
    "ExecuteTime": {
     "end_time": "2025-07-24T08:14:33.811337Z",
     "start_time": "2025-07-24T08:14:33.798574Z"
    }
   },
   "cell_type": "code",
   "source": "dog.bark(hungry=True)",
   "id": "6826235444a7af5e",
   "outputs": [
    {
     "name": "stdout",
     "output_type": "stream",
     "text": [
      "Meat ball bark: Woof Woof Woof Woof Woof\n"
     ]
    }
   ],
   "execution_count": 10
  },
  {
   "metadata": {},
   "cell_type": "markdown",
   "source": [
    "## 2. Variables and types\n",
    "\n",
    "**A variable is a named reference to a value stored in memory.**\n",
    "\n",
    "### 2.1 Define a variable\n",
    "\n",
    "When we define a variable, we must respect the below rules:\n",
    "\n",
    "- The variable can only contain `letters, digits, and underscores`\n",
    "- The variable must start with a `letter or underscore`\n",
    "- The variable is `Case-sensitive` (age ≠ Age)\n",
    "- The variable can not be keywords such as `for, if, class, etc`."
   ],
   "id": "1417d7f4ce8ea8f9"
  },
  {
   "metadata": {
    "ExecuteTime": {
     "end_time": "2025-07-24T08:25:23.889679Z",
     "start_time": "2025-07-24T08:25:23.879077Z"
    }
   },
   "cell_type": "code",
   "source": [
    "# x is a variable referencing an integer 10\n",
    "x = 10\n",
    "\n",
    "# p_name is a variable references a string \"Alice\"\n",
    "p_name = \"Alice\""
   ],
   "id": "90aafb424ce7ae2",
   "outputs": [],
   "execution_count": 11
  },
  {
   "metadata": {
    "ExecuteTime": {
     "end_time": "2025-07-24T08:26:19.299290Z",
     "start_time": "2025-07-24T08:26:19.286970Z"
    }
   },
   "cell_type": "code",
   "source": [
    "print(f\"Type of variable x is: {type(x)}\")\n",
    "print(f\"Type of variable p_name is: {type(p_name)}\")"
   ],
   "id": "99df533f89040c18",
   "outputs": [
    {
     "name": "stdout",
     "output_type": "stream",
     "text": [
      "Type of variable x is: <class 'int'>\n",
      "Type of variable p_name is: <class 'str'>\n"
     ]
    }
   ],
   "execution_count": 13
  },
  {
   "metadata": {
    "ExecuteTime": {
     "end_time": "2025-07-24T08:31:45.500557Z",
     "start_time": "2025-07-24T08:31:45.487492Z"
    }
   },
   "cell_type": "code",
   "source": [
    "# good definition of variable\n",
    "my_name = \"alice\""
   ],
   "id": "e7e497ce241a32f5",
   "outputs": [],
   "execution_count": 16
  },
  {
   "metadata": {
    "ExecuteTime": {
     "end_time": "2025-07-24T08:31:47.723361Z",
     "start_time": "2025-07-24T08:31:47.717639Z"
    }
   },
   "cell_type": "code",
   "source": [
    "# bad definition of variable\n",
    "my - name = \"alice\""
   ],
   "id": "a481798492b27a6d",
   "outputs": [
    {
     "ename": "SyntaxError",
     "evalue": "cannot assign to expression here. Maybe you meant '==' instead of '='? (3276251901.py, line 2)",
     "output_type": "error",
     "traceback": [
      "  \u001B[36mCell\u001B[39m\u001B[36m \u001B[39m\u001B[32mIn[17]\u001B[39m\u001B[32m, line 2\u001B[39m\n\u001B[31m    \u001B[39m\u001B[31mmy-name = \"alice\"\u001B[39m\n    ^\n\u001B[31mSyntaxError\u001B[39m\u001B[31m:\u001B[39m cannot assign to expression here. Maybe you meant '==' instead of '='?\n"
     ]
    }
   ],
   "execution_count": 17
  },
  {
   "metadata": {
    "ExecuteTime": {
     "end_time": "2025-07-24T08:32:12.872815Z",
     "start_time": "2025-07-24T08:32:12.866635Z"
    }
   },
   "cell_type": "code",
   "source": [
    "# good definition of variable\n",
    "_name = \"alice\""
   ],
   "id": "7d605bfdf3a6a105",
   "outputs": [],
   "execution_count": 18
  },
  {
   "metadata": {
    "ExecuteTime": {
     "end_time": "2025-07-24T08:32:22.060171Z",
     "start_time": "2025-07-24T08:32:22.035225Z"
    }
   },
   "cell_type": "code",
   "source": [
    "# bad definition of variable\n",
    "1\n",
    "name = \"alice\""
   ],
   "id": "d6298554ecb9fc35",
   "outputs": [
    {
     "ename": "SyntaxError",
     "evalue": "invalid decimal literal (4004113665.py, line 2)",
     "output_type": "error",
     "traceback": [
      "  \u001B[36mCell\u001B[39m\u001B[36m \u001B[39m\u001B[32mIn[19]\u001B[39m\u001B[32m, line 2\u001B[39m\n\u001B[31m    \u001B[39m\u001B[31m1name = \"alice\"\u001B[39m\n    ^\n\u001B[31mSyntaxError\u001B[39m\u001B[31m:\u001B[39m invalid decimal literal\n"
     ]
    }
   ],
   "execution_count": 19
  },
  {
   "metadata": {
    "ExecuteTime": {
     "end_time": "2025-07-24T08:34:32.016855Z",
     "start_time": "2025-07-24T08:34:32.000491Z"
    }
   },
   "cell_type": "code",
   "source": [
    "# bad definition of variable\n",
    "for = \"alice\""
   ],
   "id": "f833938b855fd02d",
   "outputs": [
    {
     "ename": "SyntaxError",
     "evalue": "invalid syntax (2512528711.py, line 2)",
     "output_type": "error",
     "traceback": [
      "  \u001B[36mCell\u001B[39m\u001B[36m \u001B[39m\u001B[32mIn[22]\u001B[39m\u001B[32m, line 2\u001B[39m\n\u001B[31m    \u001B[39m\u001B[31mfor = \"alice\"\u001B[39m\n        ^\n\u001B[31mSyntaxError\u001B[39m\u001B[31m:\u001B[39m invalid syntax\n"
     ]
    }
   ],
   "execution_count": 22
  },
  {
   "metadata": {
    "ExecuteTime": {
     "end_time": "2025-07-24T08:34:08.295559Z",
     "start_time": "2025-07-24T08:34:08.288865Z"
    }
   },
   "cell_type": "code",
   "source": [
    "age = 23\n",
    "Age = 46\n",
    "\n",
    "print(f\"age has value: {age}\\nAge has value: {Age}\")"
   ],
   "id": "ce23527c9636dc60",
   "outputs": [
    {
     "name": "stdout",
     "output_type": "stream",
     "text": [
      "age has value: 23\n",
      "Age has value: 46\n"
     ]
    }
   ],
   "execution_count": 21
  },
  {
   "metadata": {},
   "cell_type": "markdown",
   "source": [
    "### 2.2 Built-in Variable Types\n",
    "\n",
    "In python, each variable has a type. Python provides a list of **built-in** types:\n",
    "- Numeric types: int, float\n",
    "- String type: str\n",
    "- Boolean type: True, False\n",
    "- Sequence types: list(ordered, mutable), tuple(ordered, immutable)\n",
    "- Set type: set(unordered, unique)\n",
    "- Map type: dict (a Key-value pairs\tlike {\"name\": \"Alice\"})\n",
    "- None type: Represents \"no value\"(x = None)"
   ],
   "id": "7eeabd3d491abcd7"
  },
  {
   "metadata": {
    "ExecuteTime": {
     "end_time": "2025-07-24T09:33:21.097370Z",
     "start_time": "2025-07-24T09:33:21.081215Z"
    }
   },
   "cell_type": "code",
   "source": [
    "# numeric types\n",
    "x = 10\n",
    "y = 3.1415\n",
    "z = x + y\n",
    "print(f\"Type of variable x is: {type(x)}\")\n",
    "print(f\"Type of variable y is: {type(y)}\")\n",
    "print(f\"Value of variable z is: {z}\")\n",
    "print(f\"Type of variable z is: {type(z)}\")"
   ],
   "id": "cc6f299e648b92e2",
   "outputs": [
    {
     "name": "stdout",
     "output_type": "stream",
     "text": [
      "Type of variable x is: <class 'int'>\n",
      "Type of variable y is: <class 'float'>\n",
      "Value of variable z is: 13.1415\n",
      "Type of variable z is: <class 'float'>\n"
     ]
    }
   ],
   "execution_count": 23
  },
  {
   "metadata": {
    "ExecuteTime": {
     "end_time": "2025-07-24T09:40:55.667492Z",
     "start_time": "2025-07-24T09:40:55.661968Z"
    }
   },
   "cell_type": "code",
   "source": [
    "# string types\n",
    "text = \"  Hello, Python  \"\n",
    "\n",
    "print(f\"Value of variable text is: {text}\")\n",
    "print(f\"Type of variable text is: {type(text)}\")"
   ],
   "id": "78e9b5293ecd6f4d",
   "outputs": [
    {
     "name": "stdout",
     "output_type": "stream",
     "text": [
      "Value of variable text is:   Hello, Python  \n",
      "Type of variable text is: <class 'str'>\n"
     ]
    }
   ],
   "execution_count": 30
  },
  {
   "metadata": {
    "ExecuteTime": {
     "end_time": "2025-07-24T09:41:22.072427Z",
     "start_time": "2025-07-24T09:41:22.063206Z"
    }
   },
   "cell_type": "code",
   "source": [
    "# remove spaces\n",
    "clean_text = text.strip()\n",
    "print(f\"Value of variable clean_text is: {clean_text}\")"
   ],
   "id": "7a0defb18a23e81",
   "outputs": [
    {
     "name": "stdout",
     "output_type": "stream",
     "text": [
      "Value of variable clean_text is: Hello, Python\n"
     ]
    }
   ],
   "execution_count": 31
  },
  {
   "metadata": {
    "ExecuteTime": {
     "end_time": "2025-07-24T09:37:03.702286Z",
     "start_time": "2025-07-24T09:37:03.691639Z"
    }
   },
   "cell_type": "code",
   "source": [
    "# lower character\n",
    "print(text.lower())\n",
    "# upper character\n",
    "print(text.upper())"
   ],
   "id": "424a6c90b359b8ed",
   "outputs": [
    {
     "name": "stdout",
     "output_type": "stream",
     "text": [
      "  hello, python  \n",
      "  HELLO, PYTHON  \n"
     ]
    }
   ],
   "execution_count": 26
  },
  {
   "metadata": {
    "ExecuteTime": {
     "end_time": "2025-07-24T09:38:15.621075Z",
     "start_time": "2025-07-24T09:38:15.600825Z"
    }
   },
   "cell_type": "code",
   "source": [
    "# split text\n",
    "parts = clean_text.strip().split(\", \")\n",
    "print(parts)  # ['Hello', 'Python']"
   ],
   "id": "884c1a904e365d07",
   "outputs": [
    {
     "name": "stdout",
     "output_type": "stream",
     "text": [
      "['Hello', 'Python']\n"
     ]
    }
   ],
   "execution_count": 27
  },
  {
   "metadata": {
    "ExecuteTime": {
     "end_time": "2025-07-24T09:39:29.869401Z",
     "start_time": "2025-07-24T09:39:29.858224Z"
    }
   },
   "cell_type": "code",
   "source": [
    "# replace text\n",
    "new_text = clean_text.replace(\"Python\", \"World\")\n",
    "print(new_text)"
   ],
   "id": "e5d34488dd3b5202",
   "outputs": [
    {
     "name": "stdout",
     "output_type": "stream",
     "text": [
      "Hello, World\n"
     ]
    }
   ],
   "execution_count": 29
  },
  {
   "metadata": {
    "ExecuteTime": {
     "end_time": "2025-07-24T09:42:28.021329Z",
     "start_time": "2025-07-24T09:42:28.015946Z"
    }
   },
   "cell_type": "code",
   "source": [
    "# None type\n",
    "value = None\n",
    "\n",
    "print(f\"Value of variable value is: {value}\")\n",
    "print(f\"Type of variable value is: {type(value)}\")"
   ],
   "id": "d79244e79aeb5353",
   "outputs": [
    {
     "name": "stdout",
     "output_type": "stream",
     "text": [
      "Value of variable value is: None\n",
      "Type of variable value is: <class 'NoneType'>\n"
     ]
    }
   ],
   "execution_count": 32
  },
  {
   "metadata": {},
   "cell_type": "markdown",
   "source": [
    "### 2.3 User-Defined type\n",
    "\n",
    "If the build-in types can not fulfill your task. Users can define a new type with custom **structure and behavior**.\n",
    "\n",
    "Let's reuse the above example\n",
    "\n",
    "```python\n",
    "# name of the new type\n",
    "class Dog:\n",
    "\n",
    "    # constructor of the new type\n",
    "    def __init__(self, dog_name:str):\n",
    "        self.dog_name = dog_name\n",
    "\n",
    "    # functions of the new type\n",
    "    def bark(self, hungry: bool = False):\n",
    "        if hungry:\n",
    "            print(f\"{self.dog_name} bark: Woof Woof Woof Woof Woof\")\n",
    "        else:\n",
    "            print(f\"{self.dog_name} bark: Woof\")\n",
    "```\n"
   ],
   "id": "f4ec4ffd463f4c86"
  },
  {
   "metadata": {
    "ExecuteTime": {
     "end_time": "2025-07-24T09:49:41.058835Z",
     "start_time": "2025-07-24T09:49:41.044799Z"
    }
   },
   "cell_type": "code",
   "source": [
    "my_dog = Dog(\"toto\")\n",
    "print(f\"Type of variable my_dog is: {type(my_dog)}\")"
   ],
   "id": "abeb7cdd676f2a4",
   "outputs": [
    {
     "name": "stdout",
     "output_type": "stream",
     "text": [
      "Type of variable my_dog is: <class '__main__.Dog'>\n"
     ]
    }
   ],
   "execution_count": 33
  },
  {
   "metadata": {
    "ExecuteTime": {
     "end_time": "2025-07-24T09:50:27.588007Z",
     "start_time": "2025-07-24T09:50:27.575967Z"
    }
   },
   "cell_type": "code",
   "source": "print(f\"Type of variable dog is: {type(dog)}\")",
   "id": "fd99d38d440ea06",
   "outputs": [
    {
     "name": "stdout",
     "output_type": "stream",
     "text": [
      "Type of variable dog is: <class '__main__.Dog'>\n"
     ]
    }
   ],
   "execution_count": 34
  },
  {
   "metadata": {
    "ExecuteTime": {
     "end_time": "2025-07-24T09:50:37.976450Z",
     "start_time": "2025-07-24T09:50:37.967116Z"
    }
   },
   "cell_type": "code",
   "source": [
    "my_dog.bark()\n",
    "dog.bark()"
   ],
   "id": "a6f86c3a9e1aab5f",
   "outputs": [
    {
     "name": "stdout",
     "output_type": "stream",
     "text": [
      "toto bark: Woof\n",
      "Meat ball bark: Woof\n"
     ]
    }
   ],
   "execution_count": 35
  },
  {
   "metadata": {},
   "cell_type": "markdown",
   "source": [
    "## 3. Condition statement in python\n",
    "\n",
    "In Python, conditionals statement control the flow of logic based on `boolean expressions`.\n",
    "\n",
    "Basic condition statement\n",
    "\n",
    "```python\n",
    "if condition:\n",
    "   print(\"run action1\")\n",
    "else:\n",
    "   print(\"run action2\")\n",
    "```\n",
    "\n",
    "Multiple condition statement\n",
    "```python\n",
    "\n",
    "if condition1:\n",
    "    print(\"run action1\")\n",
    "elif condition2:\n",
    "    print(\"run action2\")\n",
    "elif condition3:\n",
    "    print(\"run action3\")\n",
    "  # ...\n",
    "else:\n",
    "    print(\"run actionx\")\n",
    "```\n"
   ],
   "id": "8913caa76c8d19bb"
  },
  {
   "metadata": {
    "ExecuteTime": {
     "end_time": "2025-07-24T10:03:32.999596Z",
     "start_time": "2025-07-24T10:03:32.994282Z"
    }
   },
   "cell_type": "code",
   "source": [
    "# condition can be any boolean expression\n",
    "age = 5\n",
    "has_id = True\n",
    "\n",
    "if age >= 18 and has_id:\n",
    "    print(\"Access granted\")\n",
    "else:\n",
    "    print(\"Access denied\")"
   ],
   "id": "8f06db6cebf9eafa",
   "outputs": [
    {
     "name": "stdout",
     "output_type": "stream",
     "text": [
      "Access denied\n"
     ]
    }
   ],
   "execution_count": 39
  },
  {
   "metadata": {
    "ExecuteTime": {
     "end_time": "2025-07-24T10:03:36.062702Z",
     "start_time": "2025-07-24T10:03:36.057599Z"
    }
   },
   "cell_type": "code",
   "source": [
    "if age <= 2:\n",
    "    print(\"It's a baby\")\n",
    "elif 12 >= age > 2:\n",
    "    print(\"It's a child\")\n",
    "elif 12 < age <= 18:\n",
    "    print(\"It's a teenager\")\n",
    "else:\n",
    "    print(\"It's an adult\")"
   ],
   "id": "a082693aafaeeeea",
   "outputs": [
    {
     "name": "stdout",
     "output_type": "stream",
     "text": [
      "It's a child\n"
     ]
    }
   ],
   "execution_count": 40
  },
  {
   "metadata": {
    "ExecuteTime": {
     "end_time": "2025-07-24T12:18:47.384590Z",
     "start_time": "2025-07-24T12:18:47.375379Z"
    }
   },
   "cell_type": "code",
   "source": [
    "# one-liner\n",
    "x = 7\n",
    "result = \"even\" if x % 2 == 0 else \"odd\"\n",
    "print(f\"{x} is a {result} number\")"
   ],
   "id": "e9b9a598e79f32c1",
   "outputs": [
    {
     "name": "stdout",
     "output_type": "stream",
     "text": [
      "7 is a odd number\n"
     ]
    }
   ],
   "execution_count": 2
  },
  {
   "metadata": {},
   "cell_type": "markdown",
   "source": [
    "## 4. Loops\n",
    "\n",
    "Two ways to do loops in python\n",
    "- **for** loops: repeatedly executes a block of code `for each item in a given sequence`\n",
    "- **while** loops: repeatedly executes a block of code `while a condition is true`\n",
    "\n",
    "> Use while when the number of iterations is unknown. Risk of infinite loop if condition never becomes false.\n"
   ],
   "id": "c523e0c3f56d1307"
  },
  {
   "metadata": {
    "ExecuteTime": {
     "end_time": "2025-07-24T12:22:37.753167Z",
     "start_time": "2025-07-24T12:22:37.742601Z"
    }
   },
   "cell_type": "code",
   "source": [
    "fruits = [\"apple\", \"banana\", \"cherry\"]\n",
    "for fruit in fruits:\n",
    "    print(fruit)"
   ],
   "id": "16a0fb41493356f1",
   "outputs": [
    {
     "name": "stdout",
     "output_type": "stream",
     "text": [
      "apple\n",
      "banana\n",
      "cherry\n"
     ]
    }
   ],
   "execution_count": 3
  },
  {
   "metadata": {
    "ExecuteTime": {
     "end_time": "2025-07-24T12:23:25.406901Z",
     "start_time": "2025-07-24T12:23:25.401853Z"
    }
   },
   "cell_type": "code",
   "source": [
    "# range(1, 6) is a sequence of int from 1 to 5\n",
    "for i in range(1, 6):\n",
    "    print(i)"
   ],
   "id": "230c423421bc0c81",
   "outputs": [
    {
     "name": "stdout",
     "output_type": "stream",
     "text": [
      "1\n",
      "2\n",
      "3\n",
      "4\n",
      "5\n"
     ]
    }
   ],
   "execution_count": 4
  },
  {
   "metadata": {
    "ExecuteTime": {
     "end_time": "2025-07-24T12:29:38.662107Z",
     "start_time": "2025-07-24T12:29:38.655461Z"
    }
   },
   "cell_type": "code",
   "source": [
    "x = 1\n",
    "\n",
    "while x < 6:\n",
    "    print(x)\n",
    "    x += 1"
   ],
   "id": "60f61cb494da29a7",
   "outputs": [
    {
     "name": "stdout",
     "output_type": "stream",
     "text": [
      "1\n",
      "2\n",
      "3\n",
      "4\n",
      "5\n"
     ]
    }
   ],
   "execution_count": 6
  },
  {
   "metadata": {
    "ExecuteTime": {
     "end_time": "2025-07-24T12:32:29.166924Z",
     "start_time": "2025-07-24T12:32:06.718733Z"
    }
   },
   "cell_type": "code",
   "source": [
    "# Use break to exit the loop immediately\n",
    "\n",
    "while True:\n",
    "    # get user input\n",
    "    name = input(\"Enter your name: \")\n",
    "    if name == \"quit\":\n",
    "        print(\"Goodbye\")\n",
    "        break\n",
    "    else:\n",
    "        print(\"Hello, \" + name)"
   ],
   "id": "a161e9b23ad62f75",
   "outputs": [
    {
     "name": "stdout",
     "output_type": "stream",
     "text": [
      "Hello, pengfei\n",
      "Hello, toto\n",
      "Hello, titi\n",
      "Goodbye\n"
     ]
    }
   ],
   "execution_count": 8
  },
  {
   "metadata": {
    "ExecuteTime": {
     "end_time": "2025-07-24T12:36:48.169986Z",
     "start_time": "2025-07-24T12:36:10.082746Z"
    }
   },
   "cell_type": "code",
   "source": [
    "# use continue to skip current iteration, move to next\n",
    "while True:\n",
    "    # get user input\n",
    "    name = input(\"Enter your name: \")\n",
    "    if name == \"quit\":\n",
    "        print(\"Goodbye all\")\n",
    "        break\n",
    "    elif name == \"pengfei\":\n",
    "        continue\n",
    "    else:\n",
    "        print(\"Hello, \" + name)\n",
    "    print(f\"{name} has entered the chat room!\")"
   ],
   "id": "5dab85d1a4452235",
   "outputs": [
    {
     "name": "stdout",
     "output_type": "stream",
     "text": [
      "Hello, toto\n",
      "toto has entered the chat room!\n",
      "Hello, titi\n",
      "titi has entered the chat room!\n",
      "Goodbye\n"
     ]
    }
   ],
   "execution_count": 9
  },
  {
   "metadata": {
    "ExecuteTime": {
     "end_time": "2025-07-24T12:38:20.755339Z",
     "start_time": "2025-07-24T12:38:20.748370Z"
    }
   },
   "cell_type": "code",
   "source": [
    "# only show odd numbers\n",
    "for i in range(6):\n",
    "    if i % 2 == 0:\n",
    "        continue\n",
    "    print(i)"
   ],
   "id": "f1174f1cb33a075d",
   "outputs": [
    {
     "name": "stdout",
     "output_type": "stream",
     "text": [
      "1\n",
      "3\n",
      "5\n"
     ]
    }
   ],
   "execution_count": 10
  },
  {
   "metadata": {
    "ExecuteTime": {
     "end_time": "2025-07-24T12:39:23.099743Z",
     "start_time": "2025-07-24T12:39:23.094695Z"
    }
   },
   "cell_type": "code",
   "source": [
    "# nested loops\n",
    "for i in range(3):\n",
    "    for j in range(3):\n",
    "        print(f\"i={i}, j={j}\")"
   ],
   "id": "65279722a9e8cbc2",
   "outputs": [
    {
     "name": "stdout",
     "output_type": "stream",
     "text": [
      "i=0, j=0\n",
      "i=0, j=1\n",
      "i=0, j=2\n",
      "i=1, j=0\n",
      "i=1, j=1\n",
      "i=1, j=2\n",
      "i=2, j=0\n",
      "i=2, j=1\n",
      "i=2, j=2\n"
     ]
    }
   ],
   "execution_count": 11
  },
  {
   "metadata": {},
   "cell_type": "markdown",
   "source": [
    "## 5. Functions\n",
    "\n",
    "A function is a reusable block of code that performs a specific task. You define it once, and you can call it many times with different arguments.\n",
    "- standard function\n",
    "- nested function\n",
    "- lambda function\n",
    "- higher-order function\n"
   ],
   "id": "70ecb263fdc49158"
  },
  {
   "metadata": {},
   "cell_type": "markdown",
   "source": [
    "### 5.1 Standard function\n",
    "\n",
    "A standard can take 0, 1 or multiple parameters. It can return 0, 1 or multiple values\n",
    "\n",
    "```python\n",
    "def function_name():\n",
    "    print(\"some logic of the function\")\n",
    "\n",
    "```"
   ],
   "id": "d745dbf97a27fbd9"
  },
  {
   "metadata": {
    "ExecuteTime": {
     "end_time": "2025-07-24T13:09:52.588248Z",
     "start_time": "2025-07-24T13:09:52.579287Z"
    }
   },
   "cell_type": "code",
   "source": [
    "# function without parameter and return values\n",
    "def say_hello():\n",
    "    print(\"Hello\")"
   ],
   "id": "caaa545f39202ebc",
   "outputs": [],
   "execution_count": 1
  },
  {
   "metadata": {
    "ExecuteTime": {
     "end_time": "2025-07-24T13:09:52.846302Z",
     "start_time": "2025-07-24T13:09:52.841616Z"
    }
   },
   "cell_type": "code",
   "source": "say_hello()",
   "id": "5708ae341e355c6a",
   "outputs": [
    {
     "name": "stdout",
     "output_type": "stream",
     "text": [
      "Hello\n"
     ]
    }
   ],
   "execution_count": 2
  },
  {
   "metadata": {
    "ExecuteTime": {
     "end_time": "2025-07-24T13:10:22.880022Z",
     "start_time": "2025-07-24T13:10:22.874928Z"
    }
   },
   "cell_type": "code",
   "source": [
    "# function with parameter\n",
    "def say_hello(name: str):\n",
    "    print(f\"Hello, {name}\")"
   ],
   "id": "a89d6ad5a1680a8e",
   "outputs": [],
   "execution_count": 3
  },
  {
   "metadata": {
    "ExecuteTime": {
     "end_time": "2025-07-24T13:10:38.389430Z",
     "start_time": "2025-07-24T13:10:38.385745Z"
    }
   },
   "cell_type": "code",
   "source": "say_hello(\"toto\")",
   "id": "fee022a0d81735bd",
   "outputs": [
    {
     "name": "stdout",
     "output_type": "stream",
     "text": [
      "Hello, toto\n"
     ]
    }
   ],
   "execution_count": 5
  },
  {
   "metadata": {
    "ExecuteTime": {
     "end_time": "2025-07-24T13:11:36.593267Z",
     "start_time": "2025-07-24T13:11:36.586846Z"
    }
   },
   "cell_type": "code",
   "source": [
    "# function with return values\n",
    "\n",
    "def add(x, y):\n",
    "    return x + y"
   ],
   "id": "5dafaa344dbaa4b5",
   "outputs": [],
   "execution_count": 6
  },
  {
   "metadata": {
    "ExecuteTime": {
     "end_time": "2025-07-24T13:11:44.504716Z",
     "start_time": "2025-07-24T13:11:44.499674Z"
    }
   },
   "cell_type": "code",
   "source": [
    "z = add(1, 2)\n",
    "print(z)"
   ],
   "id": "4e0901486d942a2d",
   "outputs": [
    {
     "name": "stdout",
     "output_type": "stream",
     "text": [
      "3\n"
     ]
    }
   ],
   "execution_count": 7
  },
  {
   "metadata": {
    "ExecuteTime": {
     "end_time": "2025-07-24T13:12:45.465720Z",
     "start_time": "2025-07-24T13:12:45.461221Z"
    }
   },
   "cell_type": "code",
   "source": [
    "# function with multiple return values\n",
    "def stats(x, y):\n",
    "    return x + y, x * y"
   ],
   "id": "b794f11b107f9d5a",
   "outputs": [],
   "execution_count": 8
  },
  {
   "metadata": {
    "ExecuteTime": {
     "end_time": "2025-07-24T13:13:38.055584Z",
     "start_time": "2025-07-24T13:13:38.049468Z"
    }
   },
   "cell_type": "code",
   "source": [
    "x, y = 1, 2\n",
    "addition, multiplication = stats(1, 2)\n",
    "print(f\"Addition of {x} and {y} is {addition}\")\n",
    "print(f\"multiplication of {x} and {y} is {multiplication}\")"
   ],
   "id": "3a34ac89e56c711d",
   "outputs": [
    {
     "name": "stdout",
     "output_type": "stream",
     "text": [
      "Addition of 1 and 2 is 3\n",
      "multiplication of 1 and 2 is 2\n"
     ]
    }
   ],
   "execution_count": 10
  },
  {
   "metadata": {
    "ExecuteTime": {
     "end_time": "2025-07-24T13:15:26.165449Z",
     "start_time": "2025-07-24T13:15:26.157133Z"
    }
   },
   "cell_type": "code",
   "source": [
    "# use keyword to assign parameter values\n",
    "addition, multiplication = stats(x=4, y=5)\n",
    "print(f\"Addition result: {addition}\")\n",
    "print(f\"multiplication result: {multiplication}\")"
   ],
   "id": "21d7b330549d3196",
   "outputs": [
    {
     "name": "stdout",
     "output_type": "stream",
     "text": [
      "Addition result: 9\n",
      "multiplication result: 20\n"
     ]
    }
   ],
   "execution_count": 11
  },
  {
   "metadata": {},
   "cell_type": "markdown",
   "source": [
    "### 5.2 Use special parameters *args, **kwargs\n",
    "\n",
    "- Use `*args` when: You don’t know in advance how many positional arguments will be passed.\n",
    "- Use `**kwargs` when: You want to accept dynamic named arguments.\n"
   ],
   "id": "d4f0058e98c92ed7"
  },
  {
   "metadata": {
    "ExecuteTime": {
     "end_time": "2025-07-24T14:04:00.963182Z",
     "start_time": "2025-07-24T14:04:00.952836Z"
    }
   },
   "cell_type": "code",
   "source": [
    "def add_all_nums(*args):\n",
    "    return sum(args)\n",
    "\n",
    "\n",
    "resu1 = add_all_nums(1, 2, 3)\n",
    "print(resu1)\n"
   ],
   "id": "3a8035bf8b22ddfd",
   "outputs": [
    {
     "name": "stdout",
     "output_type": "stream",
     "text": [
      "6\n"
     ]
    }
   ],
   "execution_count": 12
  },
  {
   "metadata": {
    "ExecuteTime": {
     "end_time": "2025-07-24T14:04:06.579889Z",
     "start_time": "2025-07-24T14:04:06.575887Z"
    }
   },
   "cell_type": "code",
   "source": [
    "resu2 = add_all_nums(1, 2, 3, 4, 5, 6)\n",
    "print(resu2)"
   ],
   "id": "e63a8b7ce5b98d5f",
   "outputs": [
    {
     "name": "stdout",
     "output_type": "stream",
     "text": [
      "21\n"
     ]
    }
   ],
   "execution_count": 13
  },
  {
   "metadata": {
    "ExecuteTime": {
     "end_time": "2025-07-24T14:08:13.274112Z",
     "start_time": "2025-07-24T14:08:13.263987Z"
    }
   },
   "cell_type": "code",
   "source": [
    "def set_config(**options):\n",
    "    if \"gpu\" in options:\n",
    "        print(f\"Use GPU: {options['gpu']}\")\n",
    "    if \"thread\" in options:\n",
    "        print(f\"Set thread number: {options['thread']}\")\n",
    "    if \"iteration\" in options:\n",
    "        print(f\"Set iteration number: {options['iteration']}\")"
   ],
   "id": "15127f7fbca89aaa",
   "outputs": [],
   "execution_count": 15
  },
  {
   "metadata": {
    "ExecuteTime": {
     "end_time": "2025-07-24T14:08:27.753941Z",
     "start_time": "2025-07-24T14:08:27.749373Z"
    }
   },
   "cell_type": "code",
   "source": "set_config(gpu=\"RTX5080\", thread=5, iteration=6)",
   "id": "40669d631f7470a6",
   "outputs": [
    {
     "name": "stdout",
     "output_type": "stream",
     "text": [
      "Use GPU: RTX5080\n",
      "Set thread number: 5\n",
      "Set iteration number: 6\n"
     ]
    }
   ],
   "execution_count": 17
  },
  {
   "metadata": {
    "ExecuteTime": {
     "end_time": "2025-07-24T14:08:56.727923Z",
     "start_time": "2025-07-24T14:08:56.719852Z"
    }
   },
   "cell_type": "code",
   "source": "set_config(gpu=\"RTX5080\")",
   "id": "3f3058e19114e5c0",
   "outputs": [
    {
     "name": "stdout",
     "output_type": "stream",
     "text": [
      "Use GPU: RTX5080\n"
     ]
    }
   ],
   "execution_count": 18
  },
  {
   "metadata": {},
   "cell_type": "markdown",
   "source": [
    "### 5.3 Nested functions\n",
    "\n",
    "The nested functions are only visible in its parent code bloc"
   ],
   "id": "856f802e3df0c43"
  },
  {
   "metadata": {
    "ExecuteTime": {
     "end_time": "2025-07-24T14:11:33.609007Z",
     "start_time": "2025-07-24T14:11:33.597824Z"
    }
   },
   "cell_type": "code",
   "source": [
    "def outer():\n",
    "    print(\"run instructions in outer function\")\n",
    "    # define a nested function inside outer function\n",
    "    def inner():\n",
    "        print(\"run instructions in inner function\")\n",
    "    inner()\n",
    "\n",
    "\n",
    "outer()"
   ],
   "id": "936576e23bfe8383",
   "outputs": [
    {
     "name": "stdout",
     "output_type": "stream",
     "text": [
      "run instructions in outer function\n",
      "run instructions in inner function\n"
     ]
    }
   ],
   "execution_count": 20
  },
  {
   "metadata": {
    "ExecuteTime": {
     "end_time": "2025-07-24T14:11:46.828047Z",
     "start_time": "2025-07-24T14:11:46.792539Z"
    }
   },
   "cell_type": "code",
   "source": [
    "# the nested function is not visible outside outer function\n",
    "inner()"
   ],
   "id": "230db4993e4eb172",
   "outputs": [
    {
     "ename": "NameError",
     "evalue": "name 'inner' is not defined",
     "output_type": "error",
     "traceback": [
      "\u001B[31m---------------------------------------------------------------------------\u001B[39m",
      "\u001B[31mNameError\u001B[39m                                 Traceback (most recent call last)",
      "\u001B[36mCell\u001B[39m\u001B[36m \u001B[39m\u001B[32mIn[21]\u001B[39m\u001B[32m, line 1\u001B[39m\n\u001B[32m----> \u001B[39m\u001B[32m1\u001B[39m \u001B[43minner\u001B[49m()\n",
      "\u001B[31mNameError\u001B[39m: name 'inner' is not defined"
     ]
    }
   ],
   "execution_count": 21
  },
  {
   "metadata": {},
   "cell_type": "markdown",
   "source": [
    "### 5.4 Lambda\n",
    "\n",
    "A **lambda function** is a `short, anonymous function` defined using the `lambda` keyword. It’s useful for simple operations you don’t want to write as full def functions.\n",
    "\n",
    "```python\n",
    "lambda arguments: expression\n",
    "```"
   ],
   "id": "e6aaf54f41fecaf0"
  },
  {
   "metadata": {
    "ExecuteTime": {
     "end_time": "2025-07-24T14:16:29.031784Z",
     "start_time": "2025-07-24T14:16:29.025654Z"
    }
   },
   "cell_type": "code",
   "source": [
    "# define a lambda function called add\n",
    "add = lambda a, b: a + b\n",
    "\n",
    "resu = add(3, 4)\n",
    "\n",
    "print(resu)"
   ],
   "id": "6a0b9e0172688cf0",
   "outputs": [
    {
     "name": "stdout",
     "output_type": "stream",
     "text": [
      "7\n"
     ]
    }
   ],
   "execution_count": 22
  },
  {
   "metadata": {},
   "cell_type": "markdown",
   "source": [
    "If we want to define an equivalent standard function\n",
    "\n",
    "```python\n",
    "def add(a, b):\n",
    "    return a + b\n",
    "```\n",
    "\n",
    "> lambda function is often used inside another high-order function to avoid useless function definition"
   ],
   "id": "34cc9daffcf5f2d9"
  },
  {
   "metadata": {
    "ExecuteTime": {
     "end_time": "2025-07-24T14:21:41.382738Z",
     "start_time": "2025-07-24T14:21:41.376171Z"
    }
   },
   "cell_type": "code",
   "source": "nums = [1, 2, 3, 4, 5]",
   "id": "38deadad406f1cbd",
   "outputs": [],
   "execution_count": 26
  },
  {
   "metadata": {
    "ExecuteTime": {
     "end_time": "2025-07-24T14:21:27.440444Z",
     "start_time": "2025-07-24T14:21:27.435072Z"
    }
   },
   "cell_type": "code",
   "source": [
    "def is_even(x):\n",
    "    return x % 2 == 0"
   ],
   "id": "d43d66078e25878d",
   "outputs": [],
   "execution_count": 24
  },
  {
   "metadata": {
    "ExecuteTime": {
     "end_time": "2025-07-24T14:22:15.694845Z",
     "start_time": "2025-07-24T14:22:15.686898Z"
    }
   },
   "cell_type": "code",
   "source": "even_nums1 = list(filter(is_even, nums))",
   "id": "75886cf39343e830",
   "outputs": [],
   "execution_count": 29
  },
  {
   "metadata": {
    "ExecuteTime": {
     "end_time": "2025-07-24T14:22:16.132359Z",
     "start_time": "2025-07-24T14:22:16.126279Z"
    }
   },
   "cell_type": "code",
   "source": "even_nums2 = list(filter(lambda x: x % 2 == 0, nums))",
   "id": "df6ff56147adad92",
   "outputs": [],
   "execution_count": 30
  },
  {
   "metadata": {
    "ExecuteTime": {
     "end_time": "2025-07-24T14:22:16.886923Z",
     "start_time": "2025-07-24T14:22:16.881401Z"
    }
   },
   "cell_type": "code",
   "source": "print(even_nums1)",
   "id": "d95f8b9dab843776",
   "outputs": [
    {
     "name": "stdout",
     "output_type": "stream",
     "text": [
      "[2, 4]\n"
     ]
    }
   ],
   "execution_count": 31
  },
  {
   "metadata": {
    "ExecuteTime": {
     "end_time": "2025-07-24T14:22:21.490826Z",
     "start_time": "2025-07-24T14:22:21.481918Z"
    }
   },
   "cell_type": "code",
   "source": "print(even_nums2)",
   "id": "1eb70714ba794ec",
   "outputs": [
    {
     "name": "stdout",
     "output_type": "stream",
     "text": [
      "[2, 4]\n"
     ]
    }
   ],
   "execution_count": 32
  },
  {
   "metadata": {},
   "cell_type": "markdown",
   "source": [
    "### 5.5 High order function\n",
    "\n",
    "A **higher-order function (HOF)** is a function that either:\n",
    "- Takes another function as an argument, or\n",
    "- Returns a function as a result\n",
    "\n",
    "```python\n",
    "def is_even(x):\n",
    "    return x % 2 == 0\n",
    "\n",
    "# in the below code, function filter and list are both HOF\n",
    "even_nums1 = list(filter(is_even, nums))\n",
    "```"
   ],
   "id": "fb52c670ddeb9882"
  },
  {
   "metadata": {
    "ExecuteTime": {
     "end_time": "2025-07-24T14:29:15.136202Z",
     "start_time": "2025-07-24T14:29:15.121132Z"
    }
   },
   "cell_type": "code",
   "source": [
    "def cap_style(text):\n",
    "    return text.upper()\n",
    "\n",
    "def lower_style(text):\n",
    "    return text.lower()\n",
    "\n",
    "def print_msg(style, message):\n",
    "    return style(message)\n",
    "\n",
    "msg = \"Hello, World!\"\n",
    "\n",
    "print(print_msg(cap_style, msg))   # \"HELLO\""
   ],
   "id": "7d757c22da61f52c",
   "outputs": [
    {
     "name": "stdout",
     "output_type": "stream",
     "text": [
      "HELLO, WORLD!\n"
     ]
    }
   ],
   "execution_count": 33
  },
  {
   "metadata": {
    "ExecuteTime": {
     "end_time": "2025-07-24T14:29:38.923086Z",
     "start_time": "2025-07-24T14:29:38.915583Z"
    }
   },
   "cell_type": "code",
   "source": "print(print_msg(lower_style, msg))",
   "id": "4c0fb9032f5ab4a3",
   "outputs": [
    {
     "name": "stdout",
     "output_type": "stream",
     "text": [
      "hello, world!\n"
     ]
    }
   ],
   "execution_count": 34
  },
  {
   "metadata": {},
   "cell_type": "markdown",
   "source": [
    "## 6. Common data structures\n",
    "\n",
    "There are many common data structures in python:\n",
    "- List\n",
    "- Tuple\n",
    "- Set\n",
    "- Dictionary\n",
    "- Deque (Double ended queue)\n",
    "- Etc.\n",
    "\n",
    "In this tutorial, we only highlight `list` and `dict`\n",
    "\n"
   ],
   "id": "b6e566066654ad5d"
  },
  {
   "metadata": {},
   "cell_type": "markdown",
   "source": [
    "### 6.1 List\n",
    "\n",
    "A **list** is an ordered, mutable (changeable) collection of elements. It's one of Python’s most commonly used data structures.\n",
    "\n",
    "A **list** is defined with **square brackets []**, it has the below properties:\n",
    "- index starts at 0\n",
    "- all items are `ordered`\n",
    "- can have `duplicate items`\n",
    "- items can be of `different types`\n",
    "\n",
    "> In python, we can use negative index to access items in a list. Negative indice starts at -1 and count from the end of the list"
   ],
   "id": "85c2f6f1a1417b90"
  },
  {
   "metadata": {
    "ExecuteTime": {
     "end_time": "2025-07-25T09:12:53.732284Z",
     "start_time": "2025-07-25T09:12:53.720688Z"
    }
   },
   "cell_type": "code",
   "source": "fruits = [\"apple\", \"banana\", \"cherry\"]",
   "id": "f3c7f0c2790f2a8c",
   "outputs": [],
   "execution_count": 1
  },
  {
   "metadata": {
    "ExecuteTime": {
     "end_time": "2025-07-25T09:13:34.535159Z",
     "start_time": "2025-07-25T09:13:34.517345Z"
    }
   },
   "cell_type": "code",
   "source": [
    "# accessing items of a list\n",
    "\n",
    "# with positive index\n",
    "print(fruits[0])\n",
    "print(fruits[2])"
   ],
   "id": "8b5665bdabd19c86",
   "outputs": [
    {
     "name": "stdout",
     "output_type": "stream",
     "text": [
      "apple\n",
      "cherry\n"
     ]
    }
   ],
   "execution_count": 3
  },
  {
   "metadata": {
    "ExecuteTime": {
     "end_time": "2025-07-25T09:14:32.959139Z",
     "start_time": "2025-07-25T09:14:32.952046Z"
    }
   },
   "cell_type": "code",
   "source": [
    "# with negative index\n",
    "print(fruits[-1])\n",
    "print(fruits[-3])"
   ],
   "id": "ee080b89394721fd",
   "outputs": [
    {
     "name": "stdout",
     "output_type": "stream",
     "text": [
      "cherry\n",
      "apple\n"
     ]
    }
   ],
   "execution_count": 4
  },
  {
   "metadata": {
    "ExecuteTime": {
     "end_time": "2025-07-25T09:15:48.190038Z",
     "start_time": "2025-07-25T09:15:48.183753Z"
    }
   },
   "cell_type": "code",
   "source": [
    "# editing a list\n",
    "fruits.append(\"orange\")\n",
    "\n",
    "# add a duplicate item\n",
    "fruits.append(\"orange\")"
   ],
   "id": "7063f04b43819b5d",
   "outputs": [],
   "execution_count": 5
  },
  {
   "metadata": {
    "ExecuteTime": {
     "end_time": "2025-07-25T09:15:54.113721Z",
     "start_time": "2025-07-25T09:15:54.107922Z"
    }
   },
   "cell_type": "code",
   "source": "print(fruits)",
   "id": "60dbec6508151f35",
   "outputs": [
    {
     "name": "stdout",
     "output_type": "stream",
     "text": [
      "['apple', 'banana', 'cherry', 'orange', 'orange']\n"
     ]
    }
   ],
   "execution_count": 6
  },
  {
   "metadata": {
    "ExecuteTime": {
     "end_time": "2025-07-25T09:16:28.859459Z",
     "start_time": "2025-07-25T09:16:28.855967Z"
    }
   },
   "cell_type": "code",
   "source": [
    "# add a nuber\n",
    "fruits.append(1)\n",
    "\n",
    "fruits.append(True)"
   ],
   "id": "8a65fad52646f8d5",
   "outputs": [],
   "execution_count": 7
  },
  {
   "metadata": {
    "ExecuteTime": {
     "end_time": "2025-07-25T09:16:35.305919Z",
     "start_time": "2025-07-25T09:16:35.298443Z"
    }
   },
   "cell_type": "code",
   "source": "print(fruits)",
   "id": "ebabe43fde6883c5",
   "outputs": [
    {
     "name": "stdout",
     "output_type": "stream",
     "text": [
      "['apple', 'banana', 'cherry', 'orange', 'orange', 1, True]\n"
     ]
    }
   ],
   "execution_count": 8
  },
  {
   "metadata": {
    "ExecuteTime": {
     "end_time": "2025-07-25T09:17:17.821793Z",
     "start_time": "2025-07-25T09:17:17.816501Z"
    }
   },
   "cell_type": "code",
   "source": [
    "# remove items\n",
    "fruits.remove(\"orange\")"
   ],
   "id": "581b10c27073a618",
   "outputs": [],
   "execution_count": 9
  },
  {
   "metadata": {
    "ExecuteTime": {
     "end_time": "2025-07-25T09:17:29.858733Z",
     "start_time": "2025-07-25T09:17:29.849887Z"
    }
   },
   "cell_type": "code",
   "source": [
    "# you can notice, it removes the first item which matches the value\n",
    "print(fruits)"
   ],
   "id": "82e74bf381a21e50",
   "outputs": [
    {
     "name": "stdout",
     "output_type": "stream",
     "text": [
      "['apple', 'banana', 'cherry', 'orange', 1, True]\n"
     ]
    }
   ],
   "execution_count": 10
  },
  {
   "metadata": {
    "ExecuteTime": {
     "end_time": "2025-07-25T09:18:21.142720Z",
     "start_time": "2025-07-25T09:18:21.137631Z"
    }
   },
   "cell_type": "code",
   "source": [
    "# loop a list\n",
    "\n",
    "for item in fruits:\n",
    "    print(item)"
   ],
   "id": "9d70f226685e2d8c",
   "outputs": [
    {
     "name": "stdout",
     "output_type": "stream",
     "text": [
      "apple\n",
      "banana\n",
      "cherry\n",
      "orange\n",
      "1\n",
      "True\n"
     ]
    }
   ],
   "execution_count": 11
  },
  {
   "metadata": {},
   "cell_type": "markdown",
   "source": [
    "## 6.2 Dictionary\n",
    "\n",
    "A `dictionary` in Python is an `unordered, mutable collection` that maps `keys to values`. It’s like a real-world dictionary: words (keys) → definitions (values).\n",
    "\n",
    "A **dict** is defined with **{}**, it has the below properties:\n",
    "- keys must be immutable (str, int, tuple, etc.)\n",
    "- Keys must be unique\n",
    "- Values can be any type"
   ],
   "id": "4868abdb25d98cbd"
  },
  {
   "metadata": {
    "ExecuteTime": {
     "end_time": "2025-07-25T09:29:10.050507Z",
     "start_time": "2025-07-25T09:29:10.045851Z"
    }
   },
   "cell_type": "code",
   "source": [
    "person = {\n",
    "    \"name\": \"Alice\",\n",
    "    \"age\": 30,\n",
    "    \"city\": \"Paris\"\n",
    "}"
   ],
   "id": "5f70bf2cabb7addb",
   "outputs": [],
   "execution_count": 13
  },
  {
   "metadata": {
    "ExecuteTime": {
     "end_time": "2025-07-25T09:29:10.558233Z",
     "start_time": "2025-07-25T09:29:10.553745Z"
    }
   },
   "cell_type": "code",
   "source": [
    "# accessing values\n",
    "print(person[\"name\"])"
   ],
   "id": "f3c11e210ca210cb",
   "outputs": [
    {
     "name": "stdout",
     "output_type": "stream",
     "text": [
      "Alice\n"
     ]
    }
   ],
   "execution_count": 14
  },
  {
   "metadata": {
    "ExecuteTime": {
     "end_time": "2025-07-25T09:29:11.403333Z",
     "start_time": "2025-07-25T09:29:11.382823Z"
    }
   },
   "cell_type": "code",
   "source": [
    "#  a non-existent key raises KeyError. Use .get() to avoid it:\n",
    "print(person[\"sex\"])"
   ],
   "id": "a0592a1d3e5923fb",
   "outputs": [
    {
     "ename": "KeyError",
     "evalue": "'sex'",
     "output_type": "error",
     "traceback": [
      "\u001B[31m---------------------------------------------------------------------------\u001B[39m",
      "\u001B[31mKeyError\u001B[39m                                  Traceback (most recent call last)",
      "\u001B[36mCell\u001B[39m\u001B[36m \u001B[39m\u001B[32mIn[15]\u001B[39m\u001B[32m, line 2\u001B[39m\n\u001B[32m      1\u001B[39m \u001B[38;5;66;03m#  a non-existent key raises KeyError. Use .get() to avoid it:\u001B[39;00m\n\u001B[32m----> \u001B[39m\u001B[32m2\u001B[39m \u001B[38;5;28mprint\u001B[39m(\u001B[43mperson\u001B[49m\u001B[43m[\u001B[49m\u001B[33;43m\"\u001B[39;49m\u001B[33;43msex\u001B[39;49m\u001B[33;43m\"\u001B[39;49m\u001B[43m]\u001B[49m)\n",
      "\u001B[31mKeyError\u001B[39m: 'sex'"
     ]
    }
   ],
   "execution_count": 15
  },
  {
   "metadata": {
    "ExecuteTime": {
     "end_time": "2025-07-25T09:29:26.294129Z",
     "start_time": "2025-07-25T09:29:26.285748Z"
    }
   },
   "cell_type": "code",
   "source": "print(person.get(\"sex\", \"Not available\"))",
   "id": "c8ea98e74df1fccc",
   "outputs": [
    {
     "name": "stdout",
     "output_type": "stream",
     "text": [
      "Not available\n"
     ]
    }
   ],
   "execution_count": 16
  },
  {
   "metadata": {
    "ExecuteTime": {
     "end_time": "2025-07-25T09:31:17.276508Z",
     "start_time": "2025-07-25T09:31:17.271886Z"
    }
   },
   "cell_type": "code",
   "source": [
    "# editing a dict\n",
    "# add a new key value pair\n",
    "person[\"sex\"]=\"F\""
   ],
   "id": "5db4d35133dadee0",
   "outputs": [],
   "execution_count": 17
  },
  {
   "metadata": {
    "ExecuteTime": {
     "end_time": "2025-07-25T09:31:22.101577Z",
     "start_time": "2025-07-25T09:31:22.090911Z"
    }
   },
   "cell_type": "code",
   "source": "print(person.get(\"sex\", \"Not available\"))",
   "id": "f6883b6b9dae7d65",
   "outputs": [
    {
     "name": "stdout",
     "output_type": "stream",
     "text": [
      "F\n"
     ]
    }
   ],
   "execution_count": 18
  },
  {
   "metadata": {
    "ExecuteTime": {
     "end_time": "2025-07-25T09:31:47.309426Z",
     "start_time": "2025-07-25T09:31:47.304910Z"
    }
   },
   "cell_type": "code",
   "source": [
    "# modify value of existing key\n",
    "print(person.get(\"age\", \"Not available\"))\n",
    "person[\"age\"]=38"
   ],
   "id": "fce6258e4345b391",
   "outputs": [],
   "execution_count": 19
  },
  {
   "metadata": {
    "ExecuteTime": {
     "end_time": "2025-07-25T09:32:03.275178Z",
     "start_time": "2025-07-25T09:32:03.267187Z"
    }
   },
   "cell_type": "code",
   "source": "print(person.get(\"age\", \"Not available\"))",
   "id": "a7c701c0cd9c011f",
   "outputs": [
    {
     "name": "stdout",
     "output_type": "stream",
     "text": [
      "38\n"
     ]
    }
   ],
   "execution_count": 20
  },
  {
   "metadata": {
    "ExecuteTime": {
     "end_time": "2025-07-25T09:35:59.355697Z",
     "start_time": "2025-07-25T09:35:59.351751Z"
    }
   },
   "cell_type": "code",
   "source": [
    "# loop through a dict\n",
    "for key in person:\n",
    "    print(key, person[key])"
   ],
   "id": "839c79b8ae418d98",
   "outputs": [
    {
     "name": "stdout",
     "output_type": "stream",
     "text": [
      "name Alice\n",
      "age 38\n",
      "sex F\n"
     ]
    }
   ],
   "execution_count": 27
  },
  {
   "metadata": {
    "ExecuteTime": {
     "end_time": "2025-07-25T09:36:10.850546Z",
     "start_time": "2025-07-25T09:36:10.844191Z"
    }
   },
   "cell_type": "code",
   "source": [
    "for key, value in person.items():\n",
    "    print(f\"{key} → {value}\")"
   ],
   "id": "1565b41916fe06f2",
   "outputs": [
    {
     "name": "stdout",
     "output_type": "stream",
     "text": [
      "name → Alice\n",
      "age → 38\n",
      "sex → F\n"
     ]
    }
   ],
   "execution_count": 28
  },
  {
   "metadata": {
    "ExecuteTime": {
     "end_time": "2025-07-25T09:34:10.799710Z",
     "start_time": "2025-07-25T09:34:10.790849Z"
    }
   },
   "cell_type": "code",
   "source": [
    "# remove elements\n",
    "print(person)\n",
    "del person[\"city\"]             # Remove by key\n"
   ],
   "id": "1b89febd233f03fe",
   "outputs": [
    {
     "name": "stdout",
     "output_type": "stream",
     "text": [
      "{'name': 'Alice', 'age': 38, 'city': 'Paris', 'sex': 'F'}\n"
     ]
    }
   ],
   "execution_count": 22
  },
  {
   "metadata": {
    "ExecuteTime": {
     "end_time": "2025-07-25T09:34:13.674346Z",
     "start_time": "2025-07-25T09:34:13.665225Z"
    }
   },
   "cell_type": "code",
   "source": "print(person)",
   "id": "3ac1a9bbbbe2d004",
   "outputs": [
    {
     "name": "stdout",
     "output_type": "stream",
     "text": [
      "{'name': 'Alice', 'age': 38, 'sex': 'F'}\n"
     ]
    }
   ],
   "execution_count": 23
  },
  {
   "metadata": {
    "ExecuteTime": {
     "end_time": "2025-07-25T09:34:45.889849Z",
     "start_time": "2025-07-25T09:34:45.861316Z"
    }
   },
   "cell_type": "code",
   "source": "del person[\"city\"]",
   "id": "c11ee71cb50e1ae4",
   "outputs": [
    {
     "ename": "KeyError",
     "evalue": "'city'",
     "output_type": "error",
     "traceback": [
      "\u001B[31m---------------------------------------------------------------------------\u001B[39m",
      "\u001B[31mKeyError\u001B[39m                                  Traceback (most recent call last)",
      "\u001B[36mCell\u001B[39m\u001B[36m \u001B[39m\u001B[32mIn[24]\u001B[39m\u001B[32m, line 1\u001B[39m\n\u001B[32m----> \u001B[39m\u001B[32m1\u001B[39m \u001B[38;5;28;01mdel\u001B[39;00m \u001B[43mperson\u001B[49m\u001B[43m[\u001B[49m\u001B[33;43m\"\u001B[39;49m\u001B[33;43mcity\u001B[39;49m\u001B[33;43m\"\u001B[39;49m\u001B[43m]\u001B[49m \n",
      "\u001B[31mKeyError\u001B[39m: 'city'"
     ]
    }
   ],
   "execution_count": 24
  },
  {
   "metadata": {
    "ExecuteTime": {
     "end_time": "2025-07-25T09:35:25.280109Z",
     "start_time": "2025-07-25T09:35:25.273148Z"
    }
   },
   "cell_type": "code",
   "source": [
    "# Safe removal\n",
    "person.pop(\"city\", None)\n",
    "print(person)"
   ],
   "id": "db50e12e4e8465ba",
   "outputs": [
    {
     "name": "stdout",
     "output_type": "stream",
     "text": [
      "{'name': 'Alice', 'age': 38, 'sex': 'F'}\n"
     ]
    }
   ],
   "execution_count": 26
  },
  {
   "metadata": {
    "ExecuteTime": {
     "end_time": "2025-07-25T09:36:40.711320Z",
     "start_time": "2025-07-25T09:36:40.705779Z"
    }
   },
   "cell_type": "code",
   "source": [
    "# Remove all entries\n",
    "person.clear()\n",
    "print(person)"
   ],
   "id": "d703a0407331939e",
   "outputs": [
    {
     "name": "stdout",
     "output_type": "stream",
     "text": [
      "{}\n"
     ]
    }
   ],
   "execution_count": 29
  },
  {
   "metadata": {},
   "cell_type": "markdown",
   "source": [
    "## 7. Exception handling\n",
    "\n",
    "Python uses `exception handling` to manage errors gracefully. Instead of crashing your program, you can intercept and respond to errors by using `try, except, else, finally`."
   ],
   "id": "68359f156f2a5d95"
  },
  {
   "metadata": {
    "ExecuteTime": {
     "end_time": "2025-07-25T09:47:27.618003Z",
     "start_time": "2025-07-25T09:47:27.608112Z"
    }
   },
   "cell_type": "code",
   "source": [
    "def divide(x:int,y:int)->int:\n",
    "    \"\"\"\n",
    "    This function is used to divide two numbers.\n",
    "    :param x: x is the first number to be divided\n",
    "    :param y: y is the second number as divider\n",
    "    :return: the division result\n",
    "    \"\"\"\n",
    "    return int(x/y)"
   ],
   "id": "49b986fdaa057550",
   "outputs": [],
   "execution_count": 32
  },
  {
   "metadata": {
    "ExecuteTime": {
     "end_time": "2025-07-25T09:47:28.264433Z",
     "start_time": "2025-07-25T09:47:28.260236Z"
    }
   },
   "cell_type": "code",
   "source": "print(divide(6,3))",
   "id": "340034bc25fdd028",
   "outputs": [
    {
     "name": "stdout",
     "output_type": "stream",
     "text": [
      "2\n"
     ]
    }
   ],
   "execution_count": 33
  },
  {
   "metadata": {
    "ExecuteTime": {
     "end_time": "2025-07-25T09:47:41.557034Z",
     "start_time": "2025-07-25T09:47:41.530022Z"
    }
   },
   "cell_type": "code",
   "source": "print(divide(6,0))",
   "id": "409a2d9e3f84f7a9",
   "outputs": [
    {
     "ename": "ZeroDivisionError",
     "evalue": "division by zero",
     "output_type": "error",
     "traceback": [
      "\u001B[31m---------------------------------------------------------------------------\u001B[39m",
      "\u001B[31mZeroDivisionError\u001B[39m                         Traceback (most recent call last)",
      "\u001B[36mCell\u001B[39m\u001B[36m \u001B[39m\u001B[32mIn[34]\u001B[39m\u001B[32m, line 1\u001B[39m\n\u001B[32m----> \u001B[39m\u001B[32m1\u001B[39m \u001B[38;5;28mprint\u001B[39m(\u001B[43mdivide\u001B[49m\u001B[43m(\u001B[49m\u001B[32;43m6\u001B[39;49m\u001B[43m,\u001B[49m\u001B[32;43m0\u001B[39;49m\u001B[43m)\u001B[49m)\n",
      "\u001B[36mCell\u001B[39m\u001B[36m \u001B[39m\u001B[32mIn[32]\u001B[39m\u001B[32m, line 8\u001B[39m, in \u001B[36mdivide\u001B[39m\u001B[34m(x, y)\u001B[39m\n\u001B[32m      1\u001B[39m \u001B[38;5;28;01mdef\u001B[39;00m\u001B[38;5;250m \u001B[39m\u001B[34mdivide\u001B[39m(x:\u001B[38;5;28mint\u001B[39m,y:\u001B[38;5;28mint\u001B[39m)->\u001B[38;5;28mint\u001B[39m:\n\u001B[32m      2\u001B[39m \u001B[38;5;250m    \u001B[39m\u001B[33;03m\"\"\"\u001B[39;00m\n\u001B[32m      3\u001B[39m \u001B[33;03m    This function is used to divide two numbers.\u001B[39;00m\n\u001B[32m      4\u001B[39m \u001B[33;03m    :param x: x is the first number to be divided\u001B[39;00m\n\u001B[32m      5\u001B[39m \u001B[33;03m    :param y: y is the second number as divider\u001B[39;00m\n\u001B[32m      6\u001B[39m \u001B[33;03m    :return: the division result\u001B[39;00m\n\u001B[32m      7\u001B[39m \u001B[33;03m    \"\"\"\u001B[39;00m\n\u001B[32m----> \u001B[39m\u001B[32m8\u001B[39m     \u001B[38;5;28;01mreturn\u001B[39;00m \u001B[38;5;28mint\u001B[39m(\u001B[43mx\u001B[49m\u001B[43m/\u001B[49m\u001B[43my\u001B[49m)\n",
      "\u001B[31mZeroDivisionError\u001B[39m: division by zero"
     ]
    }
   ],
   "execution_count": 34
  },
  {
   "metadata": {
    "ExecuteTime": {
     "end_time": "2025-07-25T09:49:30.774349Z",
     "start_time": "2025-07-25T09:49:30.768499Z"
    }
   },
   "cell_type": "code",
   "source": [
    "def divide(x:int,y:int)->int:\n",
    "    \"\"\"\n",
    "    This function is used to divide two numbers.\n",
    "    :param x: x is the first number to be divided\n",
    "    :param y: y is the second number as divider\n",
    "    :return: the division result\n",
    "    \"\"\"\n",
    "    try:\n",
    "        result = int(x/y)\n",
    "    except ZeroDivisionError:\n",
    "        print(f\"Cannot divide {x} by zero\")\n",
    "        result = 0\n",
    "    return result"
   ],
   "id": "4732326895521a44",
   "outputs": [],
   "execution_count": 35
  },
  {
   "metadata": {
    "ExecuteTime": {
     "end_time": "2025-07-25T09:49:39.255514Z",
     "start_time": "2025-07-25T09:49:39.250302Z"
    }
   },
   "cell_type": "code",
   "source": "print(divide(6,0))",
   "id": "a73681e769dfbe3a",
   "outputs": [
    {
     "name": "stdout",
     "output_type": "stream",
     "text": [
      "Cannot divide 6 by zero\n",
      "0\n"
     ]
    }
   ],
   "execution_count": 36
  },
  {
   "metadata": {
    "ExecuteTime": {
     "end_time": "2025-07-25T09:50:09.513930Z",
     "start_time": "2025-07-25T09:50:09.482452Z"
    }
   },
   "cell_type": "code",
   "source": "print(divide(6,\"abc\"))",
   "id": "b229780ea7d82917",
   "outputs": [
    {
     "ename": "TypeError",
     "evalue": "unsupported operand type(s) for /: 'int' and 'str'",
     "output_type": "error",
     "traceback": [
      "\u001B[31m---------------------------------------------------------------------------\u001B[39m",
      "\u001B[31mTypeError\u001B[39m                                 Traceback (most recent call last)",
      "\u001B[36mCell\u001B[39m\u001B[36m \u001B[39m\u001B[32mIn[37]\u001B[39m\u001B[32m, line 1\u001B[39m\n\u001B[32m----> \u001B[39m\u001B[32m1\u001B[39m \u001B[38;5;28mprint\u001B[39m(\u001B[43mdivide\u001B[49m\u001B[43m(\u001B[49m\u001B[32;43m6\u001B[39;49m\u001B[43m,\u001B[49m\u001B[33;43m\"\u001B[39;49m\u001B[33;43mabc\u001B[39;49m\u001B[33;43m\"\u001B[39;49m\u001B[43m)\u001B[49m)\n",
      "\u001B[36mCell\u001B[39m\u001B[36m \u001B[39m\u001B[32mIn[35]\u001B[39m\u001B[32m, line 9\u001B[39m, in \u001B[36mdivide\u001B[39m\u001B[34m(x, y)\u001B[39m\n\u001B[32m      2\u001B[39m \u001B[38;5;250m\u001B[39m\u001B[33;03m\"\"\"\u001B[39;00m\n\u001B[32m      3\u001B[39m \u001B[33;03mThis function is used to divide two numbers.\u001B[39;00m\n\u001B[32m      4\u001B[39m \u001B[33;03m:param x: x is the first number to be divided\u001B[39;00m\n\u001B[32m      5\u001B[39m \u001B[33;03m:param y: y is the second number as divider\u001B[39;00m\n\u001B[32m      6\u001B[39m \u001B[33;03m:return: the division result\u001B[39;00m\n\u001B[32m      7\u001B[39m \u001B[33;03m\"\"\"\u001B[39;00m\n\u001B[32m      8\u001B[39m \u001B[38;5;28;01mtry\u001B[39;00m:\n\u001B[32m----> \u001B[39m\u001B[32m9\u001B[39m     result = \u001B[38;5;28mint\u001B[39m(\u001B[43mx\u001B[49m\u001B[43m/\u001B[49m\u001B[43my\u001B[49m)\n\u001B[32m     10\u001B[39m \u001B[38;5;28;01mexcept\u001B[39;00m \u001B[38;5;167;01mZeroDivisionError\u001B[39;00m:\n\u001B[32m     11\u001B[39m     \u001B[38;5;28mprint\u001B[39m(\u001B[33mf\u001B[39m\u001B[33m\"\u001B[39m\u001B[33mCannot divide \u001B[39m\u001B[38;5;132;01m{\u001B[39;00mx\u001B[38;5;132;01m}\u001B[39;00m\u001B[33m by zero\u001B[39m\u001B[33m\"\u001B[39m)\n",
      "\u001B[31mTypeError\u001B[39m: unsupported operand type(s) for /: 'int' and 'str'"
     ]
    }
   ],
   "execution_count": 37
  },
  {
   "metadata": {
    "ExecuteTime": {
     "end_time": "2025-07-25T09:52:30.606825Z",
     "start_time": "2025-07-25T09:52:30.601113Z"
    }
   },
   "cell_type": "code",
   "source": [
    "def divide(x:int,y:int)->int:\n",
    "    \"\"\"\n",
    "    This function is used to divide two numbers.\n",
    "    :param x: x is the first number to be divided\n",
    "    :param y: y is the second number as divider\n",
    "    :return: the division result\n",
    "    \"\"\"\n",
    "    try:\n",
    "        y = int(y)\n",
    "        result = int(x/y)\n",
    "    except ValueError:\n",
    "        print(f\"Invalid argument {y}\")\n",
    "        result = 0\n",
    "    except ZeroDivisionError:\n",
    "        print(f\"Cannot divide {x} by zero\")\n",
    "        result = 0\n",
    "    return result"
   ],
   "id": "4dac3bc246d544c6",
   "outputs": [],
   "execution_count": 38
  },
  {
   "metadata": {
    "ExecuteTime": {
     "end_time": "2025-07-25T09:52:33.861365Z",
     "start_time": "2025-07-25T09:52:33.855423Z"
    }
   },
   "cell_type": "code",
   "source": "print(divide(6,\"abc\"))",
   "id": "15aec2278998c0ea",
   "outputs": [
    {
     "name": "stdout",
     "output_type": "stream",
     "text": [
      "Invalid argument abc\n",
      "0\n"
     ]
    }
   ],
   "execution_count": 39
  },
  {
   "metadata": {
    "ExecuteTime": {
     "end_time": "2025-07-25T09:54:37.813527Z",
     "start_time": "2025-07-25T09:54:37.804575Z"
    }
   },
   "cell_type": "code",
   "source": [
    "def divide(x:int,y:int)->int:\n",
    "    \"\"\"\n",
    "    This function is used to divide two numbers.\n",
    "    :param x: x is the first number to be divided\n",
    "    :param y: y is the second number as divider\n",
    "    :return: the division result\n",
    "    \"\"\"\n",
    "    try:\n",
    "        y = int(y)\n",
    "        result = int(x/y)\n",
    "    except ValueError:\n",
    "        print(f\"Invalid argument {y}\")\n",
    "        result = 0\n",
    "    except ZeroDivisionError:\n",
    "        print(f\"Cannot divide {x} by zero\")\n",
    "        result = 0\n",
    "    # the code in else block runs if no exception occours\n",
    "    else:\n",
    "        print(f\"No exception occurred\")\n",
    "    # the code in finally always runs (success or failure)\n",
    "    finally:\n",
    "        print(f\"Divide operation terminated\")\n",
    "    return result"
   ],
   "id": "92538d70721f657a",
   "outputs": [],
   "execution_count": 40
  },
  {
   "metadata": {
    "ExecuteTime": {
     "end_time": "2025-07-25T09:54:51.788539Z",
     "start_time": "2025-07-25T09:54:51.781013Z"
    }
   },
   "cell_type": "code",
   "source": "print(divide(6,3))",
   "id": "b17cf0d217239879",
   "outputs": [
    {
     "name": "stdout",
     "output_type": "stream",
     "text": [
      "No exception occurred\n",
      "Divide operation terminated\n",
      "2\n"
     ]
    }
   ],
   "execution_count": 41
  },
  {
   "metadata": {
    "ExecuteTime": {
     "end_time": "2025-07-25T09:55:06.321560Z",
     "start_time": "2025-07-25T09:55:06.313900Z"
    }
   },
   "cell_type": "code",
   "source": "print(divide(6,\"abc\"))",
   "id": "ff65d564688f18b",
   "outputs": [
    {
     "name": "stdout",
     "output_type": "stream",
     "text": [
      "Invalid argument abc\n",
      "Divide operation terminated\n",
      "0\n"
     ]
    }
   ],
   "execution_count": 42
  },
  {
   "metadata": {},
   "cell_type": "markdown",
   "source": [
    "## 8. Import libraries\n",
    "\n",
    "In Python, **import** is used to bring code from other `modules or packages` into the `current scope` so you can reuse it.\n",
    "\n",
    "**math** is the name of the `module`.\n",
    "\n",
    "You can access all contents (e.g. functions, constants, variables ) in the `math` library by using `math.` prefix"
   ],
   "id": "c615e981bd0b4907"
  },
  {
   "metadata": {
    "ExecuteTime": {
     "end_time": "2025-07-25T09:58:07.421619Z",
     "start_time": "2025-07-25T09:58:07.417496Z"
    }
   },
   "cell_type": "code",
   "source": [
    "# import a standard library\n",
    "import math\n",
    "\n",
    "print(math.sqrt(16))\n"
   ],
   "id": "857f98a7eabbecf5",
   "outputs": [
    {
     "name": "stdout",
     "output_type": "stream",
     "text": [
      "4.0\n"
     ]
    }
   ],
   "execution_count": 43
  },
  {
   "metadata": {
    "ExecuteTime": {
     "end_time": "2025-07-25T10:00:45.651172Z",
     "start_time": "2025-07-25T10:00:45.645292Z"
    }
   },
   "cell_type": "code",
   "source": "print(math.pi)",
   "id": "c99d69b3277e7aae",
   "outputs": [
    {
     "name": "stdout",
     "output_type": "stream",
     "text": [
      "3.141592653589793\n"
     ]
    }
   ],
   "execution_count": 44
  },
  {
   "metadata": {
    "ExecuteTime": {
     "end_time": "2025-07-25T10:01:40.084472Z",
     "start_time": "2025-07-25T10:01:40.079020Z"
    }
   },
   "cell_type": "code",
   "source": [
    "# import Specific Objects from a library\n",
    "from math import sqrt, pi\n",
    "print(sqrt(16))\n",
    "print(pi)"
   ],
   "id": "b1a07fd5b83049b3",
   "outputs": [
    {
     "name": "stdout",
     "output_type": "stream",
     "text": [
      "4.0\n",
      "3.141592653589793\n"
     ]
    }
   ],
   "execution_count": 45
  },
  {
   "metadata": {
    "ExecuteTime": {
     "end_time": "2025-07-25T11:47:19.765678Z",
     "start_time": "2025-07-25T11:47:19.760043Z"
    }
   },
   "cell_type": "code",
   "source": [
    "# give alias to import objects\n",
    "# this often used to avoid name conflict and\n",
    "from math import sqrt as pengfei_sqrt\n",
    "print(pengfei_sqrt(16))"
   ],
   "id": "8082b47748f9b5ec",
   "outputs": [
    {
     "name": "stdout",
     "output_type": "stream",
     "text": [
      "4.0\n"
     ]
    }
   ],
   "execution_count": 46
  },
  {
   "metadata": {},
   "cell_type": "markdown",
   "source": [
    "### 8.1 import all elements (Not Recommended)\n",
    "\n",
    "We don't recommend to use the import all statement, because of the `Name Collisions / Overwrites`\n"
   ],
   "id": "ea85d4fcaa67c1fe"
  },
  {
   "metadata": {
    "ExecuteTime": {
     "end_time": "2025-07-25T12:55:39.737173Z",
     "start_time": "2025-07-25T12:55:39.725060Z"
    }
   },
   "cell_type": "code",
   "source": [
    "from math import *\n",
    "print(sin(0))"
   ],
   "id": "c044ebcafc5743cf",
   "outputs": [
    {
     "name": "stdout",
     "output_type": "stream",
     "text": [
      "0.0\n"
     ]
    }
   ],
   "execution_count": 1
  },
  {
   "metadata": {
    "ExecuteTime": {
     "end_time": "2025-07-25T12:56:23.542211Z",
     "start_time": "2025-07-25T12:56:23.538179Z"
    }
   },
   "cell_type": "code",
   "source": [
    "def sin(x:int)->int:\n",
    "    return 0"
   ],
   "id": "481ed63e6dddd27b",
   "outputs": [],
   "execution_count": 3
  },
  {
   "metadata": {
    "ExecuteTime": {
     "end_time": "2025-07-25T12:56:26.178888Z",
     "start_time": "2025-07-25T12:56:26.172656Z"
    }
   },
   "cell_type": "code",
   "source": "print(sin(10))",
   "id": "6338508938e7b426",
   "outputs": [
    {
     "name": "stdout",
     "output_type": "stream",
     "text": [
      "0\n"
     ]
    }
   ],
   "execution_count": 4
  },
  {
   "metadata": {
    "ExecuteTime": {
     "end_time": "2025-07-25T12:59:23.623338Z",
     "start_time": "2025-07-25T12:59:23.618321Z"
    }
   },
   "cell_type": "code",
   "source": [
    "import math\n",
    "print(math.sin(10))"
   ],
   "id": "793bfec2e9e70b2f",
   "outputs": [
    {
     "name": "stdout",
     "output_type": "stream",
     "text": [
      "-0.5440211108893698\n"
     ]
    }
   ],
   "execution_count": 6
  },
  {
   "metadata": {},
   "cell_type": "markdown",
   "source": [
    "## 8.2 Module vs Package\n",
    "A library can be written as a `module` or a `package`\n",
    "- A Module is a `single .py file`\n",
    "- A Package\tis a `folder with \"__init__.py\", and multiple modules`\n",
    "\n",
    "For example, I have a package\n",
    "\n",
    "```text\n",
    "mypackage/\n",
    "├── __init__.py\n",
    "├── core.py\n",
    "├── utils.py\n",
    "```\n",
    "\n",
    "```python\n",
    "# import the module core of the package\n",
    "from mypackage import core\n",
    "\n",
    "# import helper function in the module utlis of the package\n",
    "from mypackage.utils import helper\n",
    "```"
   ],
   "id": "2bf03c77a80fc9d5"
  },
  {
   "metadata": {},
   "cell_type": "code",
   "outputs": [],
   "execution_count": null,
   "source": "",
   "id": "de8e4895081f76c"
  },
  {
   "metadata": {},
   "cell_type": "code",
   "outputs": [],
   "execution_count": null,
   "source": "",
   "id": "6e41f078585caaaf"
  }
 ],
 "metadata": {
  "kernelspec": {
   "display_name": "Python 3",
   "language": "python",
   "name": "python3"
  },
  "language_info": {
   "codemirror_mode": {
    "name": "ipython",
    "version": 2
   },
   "file_extension": ".py",
   "mimetype": "text/x-python",
   "name": "python",
   "nbconvert_exporter": "python",
   "pygments_lexer": "ipython2",
   "version": "2.7.6"
  }
 },
 "nbformat": 4,
 "nbformat_minor": 5
}
