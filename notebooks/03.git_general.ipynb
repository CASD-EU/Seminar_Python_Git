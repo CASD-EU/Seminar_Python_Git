{
 "cells": [
  {
   "metadata": {},
   "cell_type": "markdown",
   "source": [
    "# Git general usage\n",
    "\n",
    "In this tutorial, we will learn how to use git in general.\n",
    "\n",
    "## 1. Configure git\n",
    "\n",
    "To get existing git config value, you can use the below command\n",
    "\n",
    "```powershell\n",
    "# general form to get value of a config\n",
    "git config <config-key>\n",
    "\n",
    "# for example, get current user name\n",
    "git config user.name\n",
    "\n",
    "# if you want to get all config values\n",
    "git config --list\n",
    "```\n"
   ],
   "id": "6250ade77a81c315"
  },
  {
   "metadata": {
    "ExecuteTime": {
     "end_time": "2025-07-29T12:43:49.385470Z",
     "start_time": "2025-07-29T12:43:49.331686Z"
    }
   },
   "cell_type": "code",
   "source": [
    "# check if git exists on your shell\n",
    "! git --version"
   ],
   "id": "2f8f7ad5bc721c00",
   "outputs": [
    {
     "name": "stdout",
     "output_type": "stream",
     "text": [
      "git version 2.46.0.windows.1\n"
     ]
    }
   ],
   "execution_count": 1
  },
  {
   "metadata": {},
   "cell_type": "code",
   "outputs": [],
   "execution_count": null,
   "source": [
    "# get the current user name\n",
    "! git config user.name"
   ],
   "id": "42496d32c92724dd"
  },
  {
   "metadata": {},
   "cell_type": "code",
   "outputs": [],
   "execution_count": null,
   "source": [
    "# get the current user email\n",
    "! git config user.email"
   ],
   "id": "e1b6f18b4490c9f4"
  },
  {
   "metadata": {
    "ExecuteTime": {
     "end_time": "2025-07-29T12:45:18.404591Z",
     "start_time": "2025-07-29T12:45:18.300518Z"
    }
   },
   "cell_type": "code",
   "source": [
    "# check existing config\n",
    "! git config --list"
   ],
   "id": "941b636dc3aa64e5",
   "outputs": [
    {
     "name": "stdout",
     "output_type": "stream",
     "text": [
      "diff.astextplain.textconv=astextplain\n",
      "filter.lfs.clean=git-lfs clean -- %f\n",
      "filter.lfs.smudge=git-lfs smudge -- %f\n",
      "filter.lfs.process=git-lfs filter-process\n",
      "filter.lfs.required=true\n",
      "http.sslbackend=openssl\n",
      "http.sslcainfo=C:/Users/PLIU/AppData/Local/Programs/Git/mingw64/etc/ssl/certs/ca-bundle.crt\n",
      "core.autocrlf=true\n",
      "core.fscache=true\n",
      "core.symlinks=false\n",
      "pull.rebase=false\n",
      "credential.helper=manager\n",
      "credential.https://dev.azure.com.usehttppath=true\n",
      "init.defaultbranch=master\n",
      "core.editor=\"C:\\Users\\PLIU\\AppData\\Local\\Programs\\Microsoft_VS_Code\\bin\\code\" --wait\n",
      "user.name=pengfei liu\n",
      "user.email=liu.pengfei@hotmail.fr\n",
      "core.repositoryformatversion=0\n",
      "core.filemode=false\n",
      "core.bare=false\n",
      "core.logallrefupdates=true\n",
      "core.symlinks=false\n",
      "core.ignorecase=true\n",
      "remote.origin.url=git@github.com:CASD-EU/Seminar_Python_Git.git\n",
      "remote.origin.fetch=+refs/heads/*:refs/remotes/origin/*\n",
      "branch.main.remote=origin\n",
      "branch.main.merge=refs/heads/main\n"
     ]
    }
   ],
   "execution_count": 2
  },
  {
   "metadata": {},
   "cell_type": "markdown",
   "source": [
    "### 1.1 Set config value\n",
    "\n",
    "There are three levels of configuration:\n",
    "\n",
    "- `System (set value for all users)`: git config --system\n",
    "- `Global (set value for current user, and all repos)`: git config --global\n",
    "- `Local (set value for current user and current repo)`: git config --local\n",
    "\n",
    "By default, when you set a config value, it uses the **local** level"
   ],
   "id": "85e2cf8c7efd1770"
  },
  {
   "metadata": {},
   "cell_type": "code",
   "outputs": [],
   "execution_count": null,
   "source": [
    "# check the default value\n",
    "! git config init.defaultBranch"
   ],
   "id": "521c2cb8c8100abd"
  },
  {
   "metadata": {
    "ExecuteTime": {
     "end_time": "2025-07-29T12:56:49.496330Z",
     "start_time": "2025-07-29T12:56:49.423771Z"
    }
   },
   "cell_type": "code",
   "source": [
    "# change the default branch name to main\n",
    "! git config init.defaultBranch main"
   ],
   "id": "3a24d6cd8741d568",
   "outputs": [],
   "execution_count": 5
  },
  {
   "metadata": {
    "ExecuteTime": {
     "end_time": "2025-07-29T12:58:03.159374Z",
     "start_time": "2025-07-29T12:58:03.070143Z"
    }
   },
   "cell_type": "code",
   "source": [
    "# check the new values\n",
    "! git config init.defaultBranch"
   ],
   "id": "f4030e21b106bd1e",
   "outputs": [
    {
     "name": "stdout",
     "output_type": "stream",
     "text": [
      "main\n"
     ]
    }
   ],
   "execution_count": 7
  },
  {
   "metadata": {},
   "cell_type": "markdown",
   "source": [
    "> we can goto another project repo and check the value of `init.defaultBranch`\n",
    "\n",
    "### 1.2 Delete a config value\n",
    "\n",
    "We can delete a config value with keyword `--unset`.\n",
    "\n",
    "```powershell\n",
    "# the general form is\n",
    "git config --unset <config-key>\n",
    "\n",
    "# for example remove user name\n",
    "git config --unset user.name\n",
    "```"
   ],
   "id": "c7cb0cc03d279281"
  },
  {
   "metadata": {
    "ExecuteTime": {
     "end_time": "2025-07-29T13:04:08.591858Z",
     "start_time": "2025-07-29T13:04:08.518449Z"
    }
   },
   "cell_type": "code",
   "source": "! git config --global --unset user.name",
   "id": "693a43f01d80b6e7",
   "outputs": [],
   "execution_count": 10
  },
  {
   "metadata": {
    "ExecuteTime": {
     "end_time": "2025-07-29T13:04:09.991500Z",
     "start_time": "2025-07-29T13:04:09.888206Z"
    }
   },
   "cell_type": "code",
   "source": [
    "# now try to get the value\n",
    "! git config user.name"
   ],
   "id": "cf045c6eea129d36",
   "outputs": [],
   "execution_count": 11
  },
  {
   "metadata": {},
   "cell_type": "markdown",
   "source": [
    "### 1.3 Minimum config for a new git client\n",
    "\n",
    "As we explained before, each git commit stores the information of author, so it's important to let `Git` know who you are. For a new git client, the minimum config is to set up the username and email.\n",
    "\n",
    "```powershell\n",
    "git config --global --user.name <your-name>\n",
    "git config --global --user.email <your-email>\n",
    "```"
   ],
   "id": "285d3cc693ba958c"
  },
  {
   "metadata": {},
   "cell_type": "code",
   "outputs": [],
   "execution_count": null,
   "source": [
    "! git config --global --user.name pengfei\n",
    "! git config --global --user.email pengfei.liu@casd.eu"
   ],
   "id": "852b97f8912c9766"
  },
  {
   "metadata": {},
   "cell_type": "markdown",
   "source": [
    "f## 2. Creating a new git repository\n",
    "\n",
    "Don't use notebook to demonstrate this part. Use the system shell.\n",
    "\n",
    "```powershell\n",
    "# create a project folder\n",
    "mkdir myproject\n",
    "cd myproject\n",
    "\n",
    "# Initialize git on the working directory\n",
    "git init\n",
    "\n",
    "# you should see below outputs\n",
    "Initialized empty Git repository in C:/Users/PLIU/Documents/git/myproject/.git/\n",
    "\n",
    "```\n",
    "\n",
    "Now you have a **git repository**. All changes inside this repository can be tracked by `git`.\n",
    "\n",
    "> You can notice the `git init` command generates a folder `.git`. And it has files and folders.\n",
    "> If you want to know more about git, you can try to understand the functionality of each file and folder in the Appendix chapiter\n",
    "\n",
    "\n",
    "**Do not edit any file manually inside .git. Any unwanted edition can break your git repo.**\n",
    "\n"
   ],
   "id": "b6095bed753c7eaf"
  },
  {
   "metadata": {},
   "cell_type": "code",
   "outputs": [],
   "execution_count": null,
   "source": "",
   "id": "76f6387ce45455b9"
  },
  {
   "metadata": {},
   "cell_type": "code",
   "outputs": [],
   "execution_count": null,
   "source": "",
   "id": "d2d09b193270a90b"
  },
  {
   "metadata": {},
   "cell_type": "markdown",
   "source": [
    "## Appendix\n",
    "\n",
    "### 1. Understand .git\n",
    "\n",
    "In general, a `.git` folder has the below contents.\n",
    "\n",
    "```text\n",
    ".git/\n",
    "├── HEAD\n",
    "├── config\n",
    "├── description\n",
    "├── index\n",
    "├── hooks/\n",
    "├── info/\n",
    "├── objects/\n",
    "├── refs/\n",
    "│   ├── heads/\n",
    "│   └── tags/\n",
    "└── logs/\n",
    "```\n",
    "\n",
    "#### 1. HEAD\n",
    "\n",
    "`HEAD` is a file that points to the current branch. The default value is `ref: refs/heads/master`\n",
    "\n",
    "If detached, it points directly to a commit hash.\n",
    "\n",
    "#### 2. config\n",
    "The `config` file stores the local Git config value for this repo(e.g. remotes, push behavior, fetch rules, etc.).\n",
    "\n",
    "Below is an example\n",
    "\n",
    "```text\n",
    "[core]\n",
    "        repositoryformatversion = 0\n",
    "        filemode = false\n",
    "        bare = false\n",
    "        logallrefupdates = true\n",
    "        symlinks = false\n",
    "        ignorecase = true\n",
    "\n",
    "```\n",
    "\n",
    "#### 3. description\n",
    "\n",
    "The description file stores the default description of the git repo. It's only used by Git web interfaces like GitWeb, but not used by core Git commands.\n",
    "\n",
    "#### 4. index\n",
    "The index file is a `binary file` storing what’s staged for the next commit.\n",
    "\n",
    "#### 5. hooks/\n",
    "\n",
    "Directory containing sample Git hook scripts.\n",
    "\n",
    "Used to trigger custom automation (e.g., pre-commit, post-merge).\n",
    "\n",
    "```\n",
    "cat .git/hooks/pre-commit\n",
    "\n",
    "# you should see the below contents\n",
    "#!/bin/sh\n",
    "#\n",
    "# An example hook script to verify what is about to be committed.\n",
    "# Called by \"git commit\" with no arguments.  The hook should\n",
    "# exit with non-zero status after issuing an appropriate message if\n",
    "# it wants to stop the commit.\n",
    "#\n",
    "# To enable this hook, rename this file to \"pre-commit\".\n",
    "\n",
    "if git rev-parse --verify HEAD >/dev/null 2>&1\n",
    "then\n",
    "        against=HEAD\n",
    "else\n",
    "        # Initial commit: diff against an empty tree object\n",
    "        against=$(git hash-object -t tree /dev/null)\n",
    "fi\n",
    "\n",
    "# If you want to allow non-ASCII filenames set this variable to true.\n",
    "allownonascii=$(git config --type=bool hooks.allownonascii)\n",
    "\n",
    "# Redirect output to stderr.\n",
    "exec 1>&2\n",
    "\n",
    "# Cross platform projects tend to avoid non-ASCII filenames; prevent\n",
    "# them from being added to the repository. We exploit the fact that the\n",
    "# printable range starts at the space character and ends with tilde.\n",
    "if [ \"$allownonascii\" != \"true\" ] &&\n",
    "        # Note that the use of brackets around a tr range is ok here, (it's\n",
    "        # even required, for portability to Solaris 10's /usr/bin/tr), since\n",
    "        # the square bracket bytes happen to fall in the designated range.\n",
    "        test $(git diff-index --cached --name-only --diff-filter=A -z $against |\n",
    "          LC_ALL=C tr -d '[ -~]\\0' | wc -c) != 0\n",
    "then\n",
    "        cat <<\\EOF\n",
    "Error: Attempt to add a non-ASCII file name.\n",
    "\n",
    "This can cause problems if you want to work with people on other platforms.\n",
    "\n",
    "To be portable it is advisable to rename the file.\n",
    "\n",
    "If you know what you are doing you can disable this check using:\n",
    "\n",
    "  git config hooks.allownonascii true\n",
    "EOF\n",
    "        exit 1\n",
    "fi\n",
    "\n",
    "# If there are whitespace errors, print the offending file names and fail.\n",
    "exec git diff-index --check --cached $against --\n",
    "\n",
    "```\n",
    "\n",
    "> You can notice the script is written in bash, it will not work in windows.\n",
    "#### 6. info/\n",
    "\n",
    "The `info/` folder Contains `.git/info/exclude`, which is a local `.gitignore alternative`.\n",
    "\n",
    "It's useful for ignoring files that shouldn’t be committed but also shouldn’t be in versioned .gitignore.\n",
    "\n",
    "#### 7. objects/\n",
    "\n",
    "The **objects** folder is the `core Git storage`. All project versioned data are stored here (e.g. file contents, directories, commit metadata, annotated tag objects)\n",
    "\n",
    "\n",
    "> They are organized by SHA-1 prefix:\n",
    "\n",
    "```text\n",
    ".git/objects/ab/cd1234…  ← object hash abcd1234…\n",
    "```\n",
    "\n",
    "#### 8. refs/\n",
    "The `refs` folder stores references (pointers) to commits:\n",
    "\n",
    "```text\n",
    "refs/heads/ → local branches\n",
    "\n",
    "refs/tags/ → tags\n",
    "\n",
    "refs/remotes/ → remote-tracking branches (after remote added)\n",
    "\n",
    "```\n",
    "\n",
    "#### 9. logs/\n",
    "The `logs` folder keeps history of HEAD and branch movements.\n",
    "\n",
    "Enables powerful undo via git reflog.\n",
    "\n",
    "```powershell\n",
    "git reflog\n",
    "\n",
    "# output example\n",
    "02456da (HEAD -> master) HEAD@{0}: commit (initial): first commits\n",
    "\n",
    "```"
   ],
   "id": "c58aea01f77acca6"
  },
  {
   "metadata": {},
   "cell_type": "code",
   "outputs": [],
   "execution_count": null,
   "source": "",
   "id": "f22311e32424d6aa"
  },
  {
   "metadata": {},
   "cell_type": "code",
   "outputs": [],
   "execution_count": null,
   "source": "",
   "id": "2636ed83035342ae"
  },
  {
   "metadata": {},
   "cell_type": "code",
   "outputs": [],
   "execution_count": null,
   "source": "",
   "id": "1944c53ccdd1ba0c"
  }
 ],
 "metadata": {
  "kernelspec": {
   "display_name": "Python 3",
   "language": "python",
   "name": "python3"
  },
  "language_info": {
   "codemirror_mode": {
    "name": "ipython",
    "version": 2
   },
   "file_extension": ".py",
   "mimetype": "text/x-python",
   "name": "python",
   "nbconvert_exporter": "python",
   "pygments_lexer": "ipython2",
   "version": "2.7.6"
  }
 },
 "nbformat": 4,
 "nbformat_minor": 5
}
