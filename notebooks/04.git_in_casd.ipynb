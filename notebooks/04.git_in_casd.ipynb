{
 "cells": [
  {
   "metadata": {},
   "cell_type": "markdown",
   "source": [
    "# Git in CASD\n",
    "\n",
    "We have seen how to work with git alone. Now let's collaborate with other developers\n",
    "\n",
    "![git_workflow_commands_TP2.png](../assets/git_workflow_commands_TP2.png)\n",
    "\n",
    "CASD propose two types of remote git repo:\n",
    "- Gitlab-CE:\n",
    "- Git-bare:\n",
    "\n",
    "In this tutorial, we are only focus on how to use `git-bare` to create remote git repository.\n",
    "\n",
    "## 1. Git Bare Repository\n",
    "\n",
    "A **Git bare repository** is a `Git repository that does not have a working directory`. It only contains the `.git directory` (i.e., the version control data).\n",
    "It's typically used as a `central repository for collaboration`, when you don't want to host a Gitlab or GitHub server."
   ],
   "id": "a0e6b95107ea8e49"
  },
  {
   "metadata": {},
   "cell_type": "markdown",
   "source": [
    "## 1. Create a remote git repository\n",
    "\n",
    "The remote git repo must be accessible by all collaborators, so it must be created in `C:\\Utilisateurs\\Public\\Documents`.\n",
    "\n",
    "CASD recommend you to use the below code to create a **Git bare repository**:\n",
    "\n",
    "```powershell\n",
    "# all git repo should be in C:\\Utilisateurs\\Public\\Documents\\git\n",
    "cd C:\\Utilisateurs\\Public\\Documents\n",
    "mkdir git\n",
    "\n",
    "# the bare repo should be named with <project-name>.git\n",
    "# for example\n",
    "cd git\n",
    "mkdir myproject.git\n",
    "\n",
    "# init the bare repo\n",
    "git init --bare\n",
    "```\n",
    "\n",
    "> The full path of your remote git repo is `/c/Users/Public/Documents/git/myproject.git`\n",
    "> Don't forget, you have two git repos for your project. Your `local repo` is in your private space (e.g. C:\\Utilisateurs\\Pengfei\\Documents\\git) which is accessible only by you.\n",
    "> The `remote repo(git bare)` is in the public space(e.g. C:\\Utilisateurs\\Public\\Documents\\git) which accessible by all users."
   ],
   "id": "b18f0b2bbbd3c56f"
  },
  {
   "metadata": {},
   "cell_type": "markdown",
   "source": [
    "\n",
    "## 2. Link your local repo to remote repo\n",
    "\n",
    "Follow the below steps to link your local repo to the remote repo\n",
    "\n",
    "```bash\n",
    "# go to your local repo\n",
    "cd C:/Utilisateurs/PLIU/Documents/git/myproject\n",
    "\n",
    "# add a remote repo to your local repo\n",
    "git remote add origin /c/Users/Public/Documents/git/myproject.git\n",
    "\n",
    "# try to push your local code base to the remote repo\n",
    "git push origin <branch-name>\n",
    "\n",
    "# for example push the master branch to the remote repo\n",
    "git push origin master\n",
    "```"
   ],
   "id": "5184d6ecf2a6e29f"
  },
  {
   "metadata": {},
   "cell_type": "markdown",
   "source": "",
   "id": "58afe6299960ab31"
  },
  {
   "metadata": {},
   "cell_type": "markdown",
   "source": [
    "## 3. Get the code base from remote repo\n",
    "\n",
    "```powershell\n",
    "# goto your private space\n",
    "cd /c/Users/pliu/Documents/\n",
    "\n",
    "# create a test folder\n",
    "mkdir test\n",
    "cd test\n",
    "\n",
    "# this only works on git bash shell\n",
    "git clone /c/Users/Public/Documents/git/myproject.git\n",
    "\n",
    "# for powershell\n",
    "git clone C:\\Users\\Public\\Documents\\git\\myproject.git\n",
    "\n",
    "# You should see a new folder is created called `myproject`\n",
    "cd myproject\n",
    "git log\n",
    "```\n",
    "\n",
    "> You should see all the history of this project.\n"
   ],
   "id": "305d7636ffbbb429"
  },
  {
   "metadata": {},
   "cell_type": "markdown",
   "source": [
    "## 4. Collaborate with other developers\n",
    "\n",
    "### 4.1 Push a new branch to remote repo\n",
    "\n",
    "User1: do step 1, 2\n",
    "User2: do step 3,4,5,6,7\n",
    "```bash\n",
    "# 1. create a new branch called test1 and make some changes, commit the change\n",
    "\n",
    "\n",
    "# 2. push the change to the remote repo\n",
    "\n",
    "# 3. get the new branch from remote repo\n",
    "# check the remote repo status\n",
    "git ls-remote origin\n",
    "# get the new branch\n",
    "git fetch\n",
    "\n",
    "# 4. switch to the new branch\n",
    "git checkout test1\n",
    "\n",
    "# 5. check the current branch and the modi\n",
    "git branch\n",
    "\n",
    "# 6. check the diff between master and test1\n",
    "git diff master test1\n",
    "\n",
    "# 7. check the diff of a specific file\n",
    "git diff master test1 -- src/hello_world.py\n",
    "```"
   ],
   "id": "fa0f83f8f97d8149"
  },
  {
   "metadata": {},
   "cell_type": "markdown",
   "source": [
    "## 5. Merge branch\n",
    "\n",
    "Unlike Gitlab/Github, git bare does not have a working directory. So we can't do merge operation or `pull request` on git bare remote repository. All merge must be done on local repository and push the merge commit to the remote repo\n",
    "\n"
   ],
   "id": "bff5049ae5566a44"
  },
  {
   "metadata": {},
   "cell_type": "code",
   "outputs": [],
   "execution_count": null,
   "source": "",
   "id": "b65fc660a5752013"
  },
  {
   "metadata": {},
   "cell_type": "code",
   "outputs": [],
   "execution_count": null,
   "source": "",
   "id": "ac96fe669ab6e19b"
  }
 ],
 "metadata": {
  "kernelspec": {
   "display_name": "Python 3",
   "language": "python",
   "name": "python3"
  },
  "language_info": {
   "codemirror_mode": {
    "name": "ipython",
    "version": 2
   },
   "file_extension": ".py",
   "mimetype": "text/x-python",
   "name": "python",
   "nbconvert_exporter": "python",
   "pygments_lexer": "ipython2",
   "version": "2.7.6"
  }
 },
 "nbformat": 4,
 "nbformat_minor": 5
}
